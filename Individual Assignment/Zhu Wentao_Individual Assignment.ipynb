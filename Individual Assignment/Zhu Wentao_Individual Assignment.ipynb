{
 "cells": [
  {
   "cell_type": "code",
   "execution_count": 1,
   "metadata": {},
   "outputs": [
    {
     "data": {
      "text/html": [
       "<div>\n",
       "<style scoped>\n",
       "    .dataframe tbody tr th:only-of-type {\n",
       "        vertical-align: middle;\n",
       "    }\n",
       "\n",
       "    .dataframe tbody tr th {\n",
       "        vertical-align: top;\n",
       "    }\n",
       "\n",
       "    .dataframe thead th {\n",
       "        text-align: right;\n",
       "    }\n",
       "</style>\n",
       "<table border=\"1\" class=\"dataframe\">\n",
       "  <thead>\n",
       "    <tr style=\"text-align: right;\">\n",
       "      <th></th>\n",
       "      <th>income</th>\n",
       "      <th>age</th>\n",
       "      <th>loan</th>\n",
       "      <th>default</th>\n",
       "    </tr>\n",
       "  </thead>\n",
       "  <tbody>\n",
       "    <tr>\n",
       "      <th>0</th>\n",
       "      <td>66155.92510</td>\n",
       "      <td>59.017015</td>\n",
       "      <td>8106.532131</td>\n",
       "      <td>0</td>\n",
       "    </tr>\n",
       "    <tr>\n",
       "      <th>1</th>\n",
       "      <td>34415.15397</td>\n",
       "      <td>48.117153</td>\n",
       "      <td>6564.745018</td>\n",
       "      <td>0</td>\n",
       "    </tr>\n",
       "    <tr>\n",
       "      <th>2</th>\n",
       "      <td>57317.17006</td>\n",
       "      <td>63.108049</td>\n",
       "      <td>8020.953296</td>\n",
       "      <td>0</td>\n",
       "    </tr>\n",
       "    <tr>\n",
       "      <th>3</th>\n",
       "      <td>42709.53420</td>\n",
       "      <td>45.751972</td>\n",
       "      <td>6103.642260</td>\n",
       "      <td>0</td>\n",
       "    </tr>\n",
       "    <tr>\n",
       "      <th>4</th>\n",
       "      <td>66952.68885</td>\n",
       "      <td>18.584336</td>\n",
       "      <td>8770.099235</td>\n",
       "      <td>1</td>\n",
       "    </tr>\n",
       "  </tbody>\n",
       "</table>\n",
       "</div>"
      ],
      "text/plain": [
       "        income        age         loan  default\n",
       "0  66155.92510  59.017015  8106.532131        0\n",
       "1  34415.15397  48.117153  6564.745018        0\n",
       "2  57317.17006  63.108049  8020.953296        0\n",
       "3  42709.53420  45.751972  6103.642260        0\n",
       "4  66952.68885  18.584336  8770.099235        1"
      ]
     },
     "execution_count": 1,
     "metadata": {},
     "output_type": "execute_result"
    }
   ],
   "source": [
    "import pandas as pd\n",
    "import numpy as np\n",
    "df=pd.read_csv('Credit Card Default II.csv')\n",
    "df=df.drop(columns='clientid')\n",
    "df.head()"
   ]
  },
  {
   "cell_type": "markdown",
   "metadata": {},
   "source": [
    "**Data Exploration and Cleaning**"
   ]
  },
  {
   "cell_type": "code",
   "execution_count": 2,
   "metadata": {},
   "outputs": [
    {
     "data": {
      "text/plain": [
       "income     False\n",
       "age         True\n",
       "loan       False\n",
       "default    False\n",
       "dtype: bool"
      ]
     },
     "execution_count": 2,
     "metadata": {},
     "output_type": "execute_result"
    }
   ],
   "source": [
    "df.isnull().any()"
   ]
  },
  {
   "cell_type": "markdown",
   "metadata": {},
   "source": [
    "With isnull function, we find that age colume has some NULL value.<br>\n",
    "By using describe function, we find that age and loan columes have some abnormal value or outliers."
   ]
  },
  {
   "cell_type": "code",
   "execution_count": 3,
   "metadata": {},
   "outputs": [
    {
     "data": {
      "text/html": [
       "<div>\n",
       "<style scoped>\n",
       "    .dataframe tbody tr th:only-of-type {\n",
       "        vertical-align: middle;\n",
       "    }\n",
       "\n",
       "    .dataframe tbody tr th {\n",
       "        vertical-align: top;\n",
       "    }\n",
       "\n",
       "    .dataframe thead th {\n",
       "        text-align: right;\n",
       "    }\n",
       "</style>\n",
       "<table border=\"1\" class=\"dataframe\">\n",
       "  <thead>\n",
       "    <tr style=\"text-align: right;\">\n",
       "      <th></th>\n",
       "      <th>income</th>\n",
       "      <th>age</th>\n",
       "      <th>loan</th>\n",
       "      <th>default</th>\n",
       "    </tr>\n",
       "  </thead>\n",
       "  <tbody>\n",
       "    <tr>\n",
       "      <th>count</th>\n",
       "      <td>2000.000000</td>\n",
       "      <td>1997.000000</td>\n",
       "      <td>2000.000000</td>\n",
       "      <td>2000.000000</td>\n",
       "    </tr>\n",
       "    <tr>\n",
       "      <th>mean</th>\n",
       "      <td>45331.600018</td>\n",
       "      <td>40.807559</td>\n",
       "      <td>4444.369695</td>\n",
       "      <td>0.141500</td>\n",
       "    </tr>\n",
       "    <tr>\n",
       "      <th>std</th>\n",
       "      <td>14326.327119</td>\n",
       "      <td>13.624469</td>\n",
       "      <td>3045.410024</td>\n",
       "      <td>0.348624</td>\n",
       "    </tr>\n",
       "    <tr>\n",
       "      <th>min</th>\n",
       "      <td>20014.489470</td>\n",
       "      <td>-52.423280</td>\n",
       "      <td>1.377630</td>\n",
       "      <td>0.000000</td>\n",
       "    </tr>\n",
       "    <tr>\n",
       "      <th>25%</th>\n",
       "      <td>32796.459720</td>\n",
       "      <td>28.990415</td>\n",
       "      <td>1939.708847</td>\n",
       "      <td>0.000000</td>\n",
       "    </tr>\n",
       "    <tr>\n",
       "      <th>50%</th>\n",
       "      <td>45789.117310</td>\n",
       "      <td>41.317159</td>\n",
       "      <td>3974.719418</td>\n",
       "      <td>0.000000</td>\n",
       "    </tr>\n",
       "    <tr>\n",
       "      <th>75%</th>\n",
       "      <td>57791.281670</td>\n",
       "      <td>52.587040</td>\n",
       "      <td>6432.410625</td>\n",
       "      <td>0.000000</td>\n",
       "    </tr>\n",
       "    <tr>\n",
       "      <th>max</th>\n",
       "      <td>69995.685580</td>\n",
       "      <td>63.971796</td>\n",
       "      <td>13766.051240</td>\n",
       "      <td>1.000000</td>\n",
       "    </tr>\n",
       "  </tbody>\n",
       "</table>\n",
       "</div>"
      ],
      "text/plain": [
       "             income          age          loan      default\n",
       "count   2000.000000  1997.000000   2000.000000  2000.000000\n",
       "mean   45331.600018    40.807559   4444.369695     0.141500\n",
       "std    14326.327119    13.624469   3045.410024     0.348624\n",
       "min    20014.489470   -52.423280      1.377630     0.000000\n",
       "25%    32796.459720    28.990415   1939.708847     0.000000\n",
       "50%    45789.117310    41.317159   3974.719418     0.000000\n",
       "75%    57791.281670    52.587040   6432.410625     0.000000\n",
       "max    69995.685580    63.971796  13766.051240     1.000000"
      ]
     },
     "execution_count": 3,
     "metadata": {},
     "output_type": "execute_result"
    }
   ],
   "source": [
    "df.describe()"
   ]
  },
  {
   "cell_type": "code",
   "execution_count": 4,
   "metadata": {},
   "outputs": [
    {
     "data": {
      "text/plain": [
       "(1994, 4)"
      ]
     },
     "execution_count": 4,
     "metadata": {},
     "output_type": "execute_result"
    }
   ],
   "source": [
    "#drop rows with null value\n",
    "df=df.dropna(axis=0,how='any')\n",
    "\n",
    "#drop rows with negative age value\n",
    "df=df[df['age']>0]\n",
    "df.shape"
   ]
  },
  {
   "cell_type": "markdown",
   "metadata": {},
   "source": [
    "Now, explore the outlier values of loan. It can be see that all the loans below q1 value do not have default. Thus, the outliers will not affect the result."
   ]
  },
  {
   "cell_type": "code",
   "execution_count": 5,
   "metadata": {},
   "outputs": [
    {
     "data": {
      "text/plain": [
       "(0, 4)"
      ]
     },
     "execution_count": 5,
     "metadata": {},
     "output_type": "execute_result"
    }
   ],
   "source": [
    "q1=1940\n",
    "df[(df['loan']<q1)&(df['default']==1)].shape"
   ]
  },
  {
   "cell_type": "markdown",
   "metadata": {},
   "source": [
    "**Data Visualization**"
   ]
  },
  {
   "cell_type": "code",
   "execution_count": 6,
   "metadata": {},
   "outputs": [
    {
     "data": {
      "text/plain": [
       "<AxesSubplot:>"
      ]
     },
     "execution_count": 6,
     "metadata": {},
     "output_type": "execute_result"
    },
    {
     "data": {
      "image/png": "[encoded data removed]",
      "text/plain": [
       "<Figure size 432x288 with 2 Axes>"
      ]
     },
     "metadata": {
      "needs_background": "light"
     },
     "output_type": "display_data"
    }
   ],
   "source": [
    "import seaborn as sns\n",
    "sns.heatmap(df.corr())"
   ]
  },
  {
   "cell_type": "code",
   "execution_count": 7,
   "metadata": {},
   "outputs": [
    {
     "data": {
      "text/plain": [
       "array([[<AxesSubplot:title={'center':'income'}>,\n",
       "        <AxesSubplot:title={'center':'age'}>],\n",
       "       [<AxesSubplot:title={'center':'loan'}>,\n",
       "        <AxesSubplot:title={'center':'default'}>]], dtype=object)"
      ]
     },
     "execution_count": 7,
     "metadata": {},
     "output_type": "execute_result"
    },
    {
     "data": {
      "image/png": "[encoded data removed]",
      "text/plain": [
       "<Figure size 576x576 with 4 Axes>"
      ]
     },
     "metadata": {
      "needs_background": "light"
     },
     "output_type": "display_data"
    }
   ],
   "source": [
    "df.hist(figsize=(8,8))"
   ]
  },
  {
   "cell_type": "code",
   "execution_count": 8,
   "metadata": {},
   "outputs": [
    {
     "data": {
      "text/plain": [
       "Text(0.5, 0, 'Default')"
      ]
     },
     "execution_count": 8,
     "metadata": {},
     "output_type": "execute_result"
    },
    {
     "data": {
      "image/png": "[encoded data removed]",
      "text/plain": [
       "<Figure size 432x288 with 1 Axes>"
      ]
     },
     "metadata": {
      "needs_background": "light"
     },
     "output_type": "display_data"
    }
   ],
   "source": [
    "import matplotlib.pylab as plt\n",
    "plt.scatter(df['default'],df['loan'])\n",
    "plt.title('Default Analysis')\n",
    "plt.xlabel('Default')"
   ]
  },
  {
   "cell_type": "code",
   "execution_count": 9,
   "metadata": {},
   "outputs": [
    {
     "data": {
      "text/plain": [
       "0    1711\n",
       "1     283\n",
       "Name: default, dtype: int64"
      ]
     },
     "execution_count": 9,
     "metadata": {},
     "output_type": "execute_result"
    }
   ],
   "source": [
    "df['default'].value_counts()"
   ]
  },
  {
   "cell_type": "code",
   "execution_count": 10,
   "metadata": {},
   "outputs": [
    {
     "data": {
      "text/html": [
       "<div>\n",
       "<style scoped>\n",
       "    .dataframe tbody tr th:only-of-type {\n",
       "        vertical-align: middle;\n",
       "    }\n",
       "\n",
       "    .dataframe tbody tr th {\n",
       "        vertical-align: top;\n",
       "    }\n",
       "\n",
       "    .dataframe thead th {\n",
       "        text-align: right;\n",
       "    }\n",
       "</style>\n",
       "<table border=\"1\" class=\"dataframe\">\n",
       "  <thead>\n",
       "    <tr style=\"text-align: right;\">\n",
       "      <th></th>\n",
       "      <th>default</th>\n",
       "      <th>age</th>\n",
       "      <th>income</th>\n",
       "      <th>loan</th>\n",
       "    </tr>\n",
       "  </thead>\n",
       "  <tbody>\n",
       "    <tr>\n",
       "      <th>0</th>\n",
       "      <td>0</td>\n",
       "      <td>59.017015</td>\n",
       "      <td>66155.92510</td>\n",
       "      <td>8106.532131</td>\n",
       "    </tr>\n",
       "    <tr>\n",
       "      <th>1</th>\n",
       "      <td>0</td>\n",
       "      <td>48.117153</td>\n",
       "      <td>34415.15397</td>\n",
       "      <td>6564.745018</td>\n",
       "    </tr>\n",
       "    <tr>\n",
       "      <th>2</th>\n",
       "      <td>0</td>\n",
       "      <td>63.108049</td>\n",
       "      <td>57317.17006</td>\n",
       "      <td>8020.953296</td>\n",
       "    </tr>\n",
       "    <tr>\n",
       "      <th>3</th>\n",
       "      <td>0</td>\n",
       "      <td>45.751972</td>\n",
       "      <td>42709.53420</td>\n",
       "      <td>6103.642260</td>\n",
       "    </tr>\n",
       "    <tr>\n",
       "      <th>4</th>\n",
       "      <td>1</td>\n",
       "      <td>18.584336</td>\n",
       "      <td>66952.68885</td>\n",
       "      <td>8770.099235</td>\n",
       "    </tr>\n",
       "  </tbody>\n",
       "</table>\n",
       "</div>"
      ],
      "text/plain": [
       "   default        age       income         loan\n",
       "0        0  59.017015  66155.92510  8106.532131\n",
       "1        0  48.117153  34415.15397  6564.745018\n",
       "2        0  63.108049  57317.17006  8020.953296\n",
       "3        0  45.751972  42709.53420  6103.642260\n",
       "4        1  18.584336  66952.68885  8770.099235"
      ]
     },
     "execution_count": 10,
     "metadata": {},
     "output_type": "execute_result"
    }
   ],
   "source": [
    "df=df[['default','age','income','loan']]\n",
    "df.head()"
   ]
  },
  {
   "cell_type": "markdown",
   "metadata": {},
   "source": [
    "From visualization, we know that all of the default are above 2000 loan. Also, our dataset is imbalance with only a little rows of default = 1.<br>\n",
    "Next, we will split our dataset, deal with the imbalanced problem and standardize the data."
   ]
  },
  {
   "cell_type": "code",
   "execution_count": 11,
   "metadata": {},
   "outputs": [],
   "source": [
    "X=df.drop(columns='default')\n",
    "Y=df['default']\n",
    "from sklearn.model_selection import train_test_split\n",
    "X_train,X_test,Y_train,Y_test=train_test_split(X,Y,random_state=1)"
   ]
  },
  {
   "cell_type": "code",
   "execution_count": 12,
   "metadata": {},
   "outputs": [
    {
     "data": {
      "text/plain": [
       "0    1283\n",
       "1     212\n",
       "Name: default, dtype: int64"
      ]
     },
     "execution_count": 12,
     "metadata": {},
     "output_type": "execute_result"
    }
   ],
   "source": [
    "Y_train.value_counts()"
   ]
  },
  {
   "cell_type": "code",
   "execution_count": 13,
   "metadata": {},
   "outputs": [],
   "source": [
    "#deal with imbalanced data\n",
    "from imblearn.over_sampling import SMOTE\n",
    "X_train,Y_train=SMOTE(random_state=1).fit_resample(X_train,Y_train)"
   ]
  },
  {
   "cell_type": "code",
   "execution_count": 14,
   "metadata": {},
   "outputs": [],
   "source": [
    "#Since the variance of income and loan is high, I will use z-score to transfer these two features.\n",
    "from scipy import stats\n",
    "X_train['loan']=stats.zscore(X_train['loan'])\n",
    "X_test['loan']=stats.zscore(X_test['loan'])\n",
    "\n",
    "X_train['income']=stats.zscore(X_train['income'])\n",
    "X_test['income']=stats.zscore(X_test['income'])"
   ]
  },
  {
   "cell_type": "code",
   "execution_count": 15,
   "metadata": {},
   "outputs": [],
   "source": [
    "def prediction_result(model):\n",
    "    pred_tra=model.predict(X_train)\n",
    "    cm_tra=confusion_matrix(Y_train,pred_tra)\n",
    "    print(cm_tra)\n",
    "    print('accuracy of train is ',(cm_tra[0,0]+cm_tra[1,1])/sum(sum(cm_tra)))\n",
    "    print('precision of train is ',cm_tra[1,1]/(cm_tra[0,1]+cm_tra[1,1]))\n",
    "    print('recall of train is ',cm_tra[1,1]/(cm_tra[1,0]+cm_tra[1,1]))\n",
    "\n",
    "    pred_tst=model.predict(X_test)\n",
    "    cm_tst=confusion_matrix(Y_test,pred_tst)\n",
    "    print(cm_tst)\n",
    "    print('accuracy of test is ',(cm_tst[0,0]+cm_tst[1,1])/sum(sum(cm_tst)))\n",
    "    print('precision of test is ',cm_tst[1,1]/(cm_tst[0,1]+cm_tst[1,1]))\n",
    "    print('recall of test is ',cm_tst[1,1]/(cm_tst[1,0]+cm_tst[1,1]))"
   ]
  },
  {
   "cell_type": "code",
   "execution_count": 16,
   "metadata": {},
   "outputs": [
    {
     "name": "stdout",
     "output_type": "stream",
     "text": [
      "[[1191   92]\n",
      " [  30 1253]]\n",
      "accuracy of train is  0.9524551831644583\n",
      "precision of train is  0.9315985130111524\n",
      "recall of train is  0.9766173031956352\n",
      "[[366  62]\n",
      " [  0  71]]\n",
      "accuracy of test is  0.875751503006012\n",
      "precision of test is  0.5338345864661654\n",
      "recall of test is  1.0\n"
     ]
    }
   ],
   "source": [
    "from sklearn.metrics import confusion_matrix\n",
    "\n",
    "from sklearn import linear_model\n",
    "model=linear_model.LogisticRegression(random_state=1)\n",
    "model.fit(X_train,Y_train)\n",
    "\n",
    "prediction_result(model)"
   ]
  },
  {
   "cell_type": "code",
   "execution_count": 17,
   "metadata": {},
   "outputs": [
    {
     "name": "stderr",
     "output_type": "stream",
     "text": [
      "/Users/apple/opt/anaconda3/lib/python3.8/site-packages/sklearn/utils/deprecation.py:87: FutureWarning: Function plot_roc_curve is deprecated; Function :func:`plot_roc_curve` is deprecated in 1.0 and will be removed in 1.2. Use one of the class methods: :meth:`sklearn.metric.RocCurveDisplay.from_predictions` or :meth:`sklearn.metric.RocCurveDisplay.from_estimator`.\n",
      "  warnings.warn(msg, category=FutureWarning)\n",
      "/Users/apple/opt/anaconda3/lib/python3.8/site-packages/sklearn/utils/deprecation.py:87: FutureWarning: Function plot_precision_recall_curve is deprecated; Function `plot_precision_recall_curve` is deprecated in 1.0 and will be removed in 1.2. Use one of the class methods: PrecisionRecallDisplay.from_predictions or PrecisionRecallDisplay.from_estimator.\n",
      "  warnings.warn(msg, category=FutureWarning)\n"
     ]
    },
    {
     "data": {
      "text/plain": [
       "<sklearn.metrics._plot.precision_recall_curve.PrecisionRecallDisplay at 0x7fb3c4c75a60>"
      ]
     },
     "execution_count": 17,
     "metadata": {},
     "output_type": "execute_result"
    },
    {
     "data": {
      "image/png": "[encoded data removed]",
      "text/plain": [
       "<Figure size 432x288 with 1 Axes>"
      ]
     },
     "metadata": {
      "needs_background": "light"
     },
     "output_type": "display_data"
    },
    {
     "data": {
      "image/png": "[encoded data removed]",
      "text/plain": [
       "<Figure size 432x288 with 1 Axes>"
      ]
     },
     "metadata": {
      "needs_background": "light"
     },
     "output_type": "display_data"
    }
   ],
   "source": [
    "from sklearn.metrics import plot_roc_curve\n",
    "from sklearn.metrics import plot_precision_recall_curve\n",
    "\n",
    "plot_roc_curve(model,X_test,Y_test)\n",
    "plot_precision_recall_curve(model,X_test,Y_test)"
   ]
  },
  {
   "cell_type": "code",
   "execution_count": 18,
   "metadata": {},
   "outputs": [
    {
     "name": "stdout",
     "output_type": "stream",
     "text": [
      "[[1283    0]\n",
      " [   0 1283]]\n",
      "accuracy of train is  1.0\n",
      "precision of train is  1.0\n",
      "recall of train is  1.0\n",
      "[[401  27]\n",
      " [  0  71]]\n",
      "accuracy of test is  0.9458917835671342\n",
      "precision of test is  0.7244897959183674\n",
      "recall of test is  1.0\n"
     ]
    }
   ],
   "source": [
    "#Decision Tree\n",
    "from sklearn import tree\n",
    "model=tree.DecisionTreeClassifier(random_state=1)\n",
    "model.fit(X_train,Y_train)\n",
    "\n",
    "prediction_result(model)"
   ]
  },
  {
   "cell_type": "code",
   "execution_count": 19,
   "metadata": {},
   "outputs": [
    {
     "name": "stderr",
     "output_type": "stream",
     "text": [
      "/Users/apple/opt/anaconda3/lib/python3.8/site-packages/sklearn/utils/deprecation.py:87: FutureWarning: Function plot_roc_curve is deprecated; Function :func:`plot_roc_curve` is deprecated in 1.0 and will be removed in 1.2. Use one of the class methods: :meth:`sklearn.metric.RocCurveDisplay.from_predictions` or :meth:`sklearn.metric.RocCurveDisplay.from_estimator`.\n",
      "  warnings.warn(msg, category=FutureWarning)\n",
      "/Users/apple/opt/anaconda3/lib/python3.8/site-packages/sklearn/utils/deprecation.py:87: FutureWarning: Function plot_precision_recall_curve is deprecated; Function `plot_precision_recall_curve` is deprecated in 1.0 and will be removed in 1.2. Use one of the class methods: PrecisionRecallDisplay.from_predictions or PrecisionRecallDisplay.from_estimator.\n",
      "  warnings.warn(msg, category=FutureWarning)\n"
     ]
    },
    {
     "data": {
      "text/plain": [
       "<sklearn.metrics._plot.precision_recall_curve.PrecisionRecallDisplay at 0x7fb3c4d4f460>"
      ]
     },
     "execution_count": 19,
     "metadata": {},
     "output_type": "execute_result"
    },
    {
     "data": {
      "image/png": "[encoded data removed]",
      "text/plain": [
       "<Figure size 432x288 with 1 Axes>"
      ]
     },
     "metadata": {
      "needs_background": "light"
     },
     "output_type": "display_data"
    },
    {
     "data": {
      "image/png": "[encoded data removed]",
      "text/plain": [
       "<Figure size 432x288 with 1 Axes>"
      ]
     },
     "metadata": {
      "needs_background": "light"
     },
     "output_type": "display_data"
    }
   ],
   "source": [
    "plot_roc_curve(model,X_test,Y_test)\n",
    "plot_precision_recall_curve(model,X_test,Y_test)"
   ]
  },
  {
   "cell_type": "code",
   "execution_count": 20,
   "metadata": {},
   "outputs": [
    {
     "name": "stdout",
     "output_type": "stream",
     "text": [
      "[[1283    0]\n",
      " [   0 1283]]\n",
      "accuracy of train is  1.0\n",
      "precision of train is  1.0\n",
      "recall of train is  1.0\n",
      "[[399  29]\n",
      " [  0  71]]\n",
      "accuracy of test is  0.9418837675350702\n",
      "precision of test is  0.71\n",
      "recall of test is  1.0\n"
     ]
    }
   ],
   "source": [
    "#Random Forest\n",
    "from sklearn import ensemble\n",
    "model=ensemble.RandomForestClassifier(random_state=1)\n",
    "model.fit(X_train,Y_train)\n",
    "\n",
    "prediction_result(model)"
   ]
  },
  {
   "cell_type": "code",
   "execution_count": 21,
   "metadata": {},
   "outputs": [
    {
     "name": "stderr",
     "output_type": "stream",
     "text": [
      "/Users/apple/opt/anaconda3/lib/python3.8/site-packages/sklearn/utils/deprecation.py:87: FutureWarning: Function plot_roc_curve is deprecated; Function :func:`plot_roc_curve` is deprecated in 1.0 and will be removed in 1.2. Use one of the class methods: :meth:`sklearn.metric.RocCurveDisplay.from_predictions` or :meth:`sklearn.metric.RocCurveDisplay.from_estimator`.\n",
      "  warnings.warn(msg, category=FutureWarning)\n",
      "/Users/apple/opt/anaconda3/lib/python3.8/site-packages/sklearn/utils/deprecation.py:87: FutureWarning: Function plot_precision_recall_curve is deprecated; Function `plot_precision_recall_curve` is deprecated in 1.0 and will be removed in 1.2. Use one of the class methods: PrecisionRecallDisplay.from_predictions or PrecisionRecallDisplay.from_estimator.\n",
      "  warnings.warn(msg, category=FutureWarning)\n"
     ]
    },
    {
     "data": {
      "text/plain": [
       "<sklearn.metrics._plot.precision_recall_curve.PrecisionRecallDisplay at 0x7fb3c4e7bf40>"
      ]
     },
     "execution_count": 21,
     "metadata": {},
     "output_type": "execute_result"
    },
    {
     "data": {
      "image/png": "[encoded data removed]",
      "text/plain": [
       "<Figure size 432x288 with 1 Axes>"
      ]
     },
     "metadata": {
      "needs_background": "light"
     },
     "output_type": "display_data"
    },
    {
     "data": {
      "image/png": "[encoded data removed]",
      "text/plain": [
       "<Figure size 432x288 with 1 Axes>"
      ]
     },
     "metadata": {
      "needs_background": "light"
     },
     "output_type": "display_data"
    }
   ],
   "source": [
    "plot_roc_curve(model,X_test,Y_test)\n",
    "plot_precision_recall_curve(model,X_test,Y_test)"
   ]
  },
  {
   "cell_type": "code",
   "execution_count": 22,
   "metadata": {},
   "outputs": [
    {
     "name": "stderr",
     "output_type": "stream",
     "text": [
      "/Users/apple/opt/anaconda3/lib/python3.8/site-packages/xgboost/compat.py:31: FutureWarning: pandas.Int64Index is deprecated and will be removed from pandas in a future version. Use pandas.Index with the appropriate dtype instead.\n",
      "  from pandas import MultiIndex, Int64Index\n"
     ]
    },
    {
     "name": "stdout",
     "output_type": "stream",
     "text": [
      "[19:26:30] WARNING: /opt/concourse/worker/volumes/live/7a2b9f41-3287-451b-6691-43e9a6c0910f/volume/xgboost-split_1619728204606/work/src/learner.cc:1061: Starting in XGBoost 1.3.0, the default evaluation metric used with the objective 'binary:logistic' was changed from 'error' to 'logloss'. Explicitly set eval_metric if you'd like to restore the old behavior.\n",
      "[[1283    0]\n",
      " [   0 1283]]\n",
      "accuracy of train is  1.0\n",
      "precision of train is  1.0\n",
      "recall of train is  1.0\n",
      "[[403  25]\n",
      " [  0  71]]\n",
      "accuracy of test is  0.9498997995991983\n",
      "precision of test is  0.7395833333333334\n",
      "recall of test is  1.0\n"
     ]
    },
    {
     "name": "stderr",
     "output_type": "stream",
     "text": [
      "/Users/apple/opt/anaconda3/lib/python3.8/site-packages/xgboost/sklearn.py:888: UserWarning: The use of label encoder in XGBClassifier is deprecated and will be removed in a future release. To remove this warning, do the following: 1) Pass option use_label_encoder=False when constructing XGBClassifier object; and 2) Encode your labels (y) as integers starting with 0, i.e. 0, 1, 2, ..., [num_class - 1].\n",
      "  warnings.warn(label_encoder_deprecation_msg, UserWarning)\n",
      "/Users/apple/opt/anaconda3/lib/python3.8/site-packages/xgboost/data.py:192: FutureWarning: pandas.Int64Index is deprecated and will be removed from pandas in a future version. Use pandas.Index with the appropriate dtype instead.\n",
      "  from pandas import MultiIndex, Int64Index\n",
      "/Users/apple/opt/anaconda3/lib/python3.8/site-packages/xgboost/data.py:192: FutureWarning: pandas.Int64Index is deprecated and will be removed from pandas in a future version. Use pandas.Index with the appropriate dtype instead.\n",
      "  from pandas import MultiIndex, Int64Index\n"
     ]
    }
   ],
   "source": [
    "#XGBoost\n",
    "import xgboost as xgb\n",
    "model = xgb.XGBClassifier(random_state=1)\n",
    "model.fit(X_train,Y_train)\n",
    "\n",
    "prediction_result(model)"
   ]
  },
  {
   "cell_type": "code",
   "execution_count": 23,
   "metadata": {},
   "outputs": [
    {
     "name": "stderr",
     "output_type": "stream",
     "text": [
      "/Users/apple/opt/anaconda3/lib/python3.8/site-packages/sklearn/utils/deprecation.py:87: FutureWarning: Function plot_roc_curve is deprecated; Function :func:`plot_roc_curve` is deprecated in 1.0 and will be removed in 1.2. Use one of the class methods: :meth:`sklearn.metric.RocCurveDisplay.from_predictions` or :meth:`sklearn.metric.RocCurveDisplay.from_estimator`.\n",
      "  warnings.warn(msg, category=FutureWarning)\n",
      "/Users/apple/opt/anaconda3/lib/python3.8/site-packages/xgboost/data.py:192: FutureWarning: pandas.Int64Index is deprecated and will be removed from pandas in a future version. Use pandas.Index with the appropriate dtype instead.\n",
      "  from pandas import MultiIndex, Int64Index\n",
      "/Users/apple/opt/anaconda3/lib/python3.8/site-packages/sklearn/utils/deprecation.py:87: FutureWarning: Function plot_precision_recall_curve is deprecated; Function `plot_precision_recall_curve` is deprecated in 1.0 and will be removed in 1.2. Use one of the class methods: PrecisionRecallDisplay.from_predictions or PrecisionRecallDisplay.from_estimator.\n",
      "  warnings.warn(msg, category=FutureWarning)\n",
      "/Users/apple/opt/anaconda3/lib/python3.8/site-packages/xgboost/data.py:192: FutureWarning: pandas.Int64Index is deprecated and will be removed from pandas in a future version. Use pandas.Index with the appropriate dtype instead.\n",
      "  from pandas import MultiIndex, Int64Index\n"
     ]
    },
    {
     "data": {
      "text/plain": [
       "<sklearn.metrics._plot.precision_recall_curve.PrecisionRecallDisplay at 0x7fb3c4d53f70>"
      ]
     },
     "execution_count": 23,
     "metadata": {},
     "output_type": "execute_result"
    },
    {
     "data": {
      "image/png": "[encoded data removed]",
      "text/plain": [
       "<Figure size 432x288 with 1 Axes>"
      ]
     },
     "metadata": {
      "needs_background": "light"
     },
     "output_type": "display_data"
    },
    {
     "data": {
      "image/png": "[encoded data removed]",
      "text/plain": [
       "<Figure size 432x288 with 1 Axes>"
      ]
     },
     "metadata": {
      "needs_background": "light"
     },
     "output_type": "display_data"
    }
   ],
   "source": [
    "plot_roc_curve(model,X_test,Y_test)\n",
    "plot_precision_recall_curve(model,X_test,Y_test)"
   ]
  },
  {
   "cell_type": "code",
   "execution_count": 24,
   "metadata": {},
   "outputs": [
    {
     "name": "stdout",
     "output_type": "stream",
     "text": [
      "[[1219   64]\n",
      " [   8 1275]]\n",
      "accuracy of train is  0.9719407638347622\n",
      "precision of train is  0.9522031366691561\n",
      "recall of train is  0.9937646141855028\n",
      "[[381  47]\n",
      " [  0  71]]\n",
      "accuracy of test is  0.905811623246493\n",
      "precision of test is  0.6016949152542372\n",
      "recall of test is  1.0\n"
     ]
    },
    {
     "name": "stderr",
     "output_type": "stream",
     "text": [
      "/Users/apple/opt/anaconda3/lib/python3.8/site-packages/sklearn/neural_network/_multilayer_perceptron.py:692: ConvergenceWarning: Stochastic Optimizer: Maximum iterations (200) reached and the optimization hasn't converged yet.\n",
      "  warnings.warn(\n"
     ]
    }
   ],
   "source": [
    "#neural network model\n",
    "from sklearn import neural_network\n",
    "model=neural_network.MLPClassifier(random_state=1)\n",
    "model.fit(X_train,Y_train)\n",
    "\n",
    "prediction_result(model)"
   ]
  },
  {
   "cell_type": "code",
   "execution_count": 25,
   "metadata": {},
   "outputs": [
    {
     "name": "stderr",
     "output_type": "stream",
     "text": [
      "/Users/apple/opt/anaconda3/lib/python3.8/site-packages/sklearn/utils/deprecation.py:87: FutureWarning: Function plot_roc_curve is deprecated; Function :func:`plot_roc_curve` is deprecated in 1.0 and will be removed in 1.2. Use one of the class methods: :meth:`sklearn.metric.RocCurveDisplay.from_predictions` or :meth:`sklearn.metric.RocCurveDisplay.from_estimator`.\n",
      "  warnings.warn(msg, category=FutureWarning)\n",
      "/Users/apple/opt/anaconda3/lib/python3.8/site-packages/sklearn/utils/deprecation.py:87: FutureWarning: Function plot_precision_recall_curve is deprecated; Function `plot_precision_recall_curve` is deprecated in 1.0 and will be removed in 1.2. Use one of the class methods: PrecisionRecallDisplay.from_predictions or PrecisionRecallDisplay.from_estimator.\n",
      "  warnings.warn(msg, category=FutureWarning)\n"
     ]
    },
    {
     "data": {
      "text/plain": [
       "<sklearn.metrics._plot.precision_recall_curve.PrecisionRecallDisplay at 0x7fb3c5d29fd0>"
      ]
     },
     "execution_count": 25,
     "metadata": {},
     "output_type": "execute_result"
    },
    {
     "data": {
      "image/png": "[encoded data removed]",
      "text/plain": [
       "<Figure size 432x288 with 1 Axes>"
      ]
     },
     "metadata": {
      "needs_background": "light"
     },
     "output_type": "display_data"
    },
    {
     "data": {
      "image/png": "[encoded data removed]",
      "text/plain": [
       "<Figure size 432x288 with 1 Axes>"
      ]
     },
     "metadata": {
      "needs_background": "light"
     },
     "output_type": "display_data"
    }
   ],
   "source": [
    "plot_roc_curve(model,X_test,Y_test)\n",
    "plot_precision_recall_curve(model,X_test,Y_test)"
   ]
  },
  {
   "cell_type": "markdown",
   "metadata": {},
   "source": [
    "**Apply Keras & tensorflow on neural network**"
   ]
  },
  {
   "cell_type": "code",
   "execution_count": 26,
   "metadata": {},
   "outputs": [],
   "source": [
    "from keras.models import Sequential\n",
    "from keras.layers import Dense,Dropout"
   ]
  },
  {
   "cell_type": "code",
   "execution_count": 27,
   "metadata": {},
   "outputs": [
    {
     "name": "stdout",
     "output_type": "stream",
     "text": [
      "Model: \"sequential\"\n",
      "_________________________________________________________________\n",
      " Layer (type)                Output Shape              Param #   \n",
      "=================================================================\n",
      " dense (Dense)               (None, 20)                80        \n",
      "                                                                 \n",
      " dropout (Dropout)           (None, 20)                0         \n",
      "                                                                 \n",
      " dense_1 (Dense)             (None, 20)                420       \n",
      "                                                                 \n",
      " dropout_1 (Dropout)         (None, 20)                0         \n",
      "                                                                 \n",
      " dense_2 (Dense)             (None, 1)                 21        \n",
      "                                                                 \n",
      " dropout_2 (Dropout)         (None, 1)                 0         \n",
      "                                                                 \n",
      "=================================================================\n",
      "Total params: 521\n",
      "Trainable params: 521\n",
      "Non-trainable params: 0\n",
      "_________________________________________________________________\n"
     ]
    }
   ],
   "source": [
    "model=Sequential()\n",
    "model.add(Dense(20,input_dim=3,activation='relu'))\n",
    "model.add(Dropout(0.2))\n",
    "model.add(Dense(20,activation='relu'))\n",
    "model.add(Dropout(0.2))\n",
    "model.add(Dense(1,activation=\"sigmoid\"))\n",
    "model.add(Dropout(0.2))\n",
    "model.summary()"
   ]
  },
  {
   "cell_type": "code",
   "execution_count": 28,
   "metadata": {},
   "outputs": [],
   "source": [
    "model.compile(loss=\"binary_crossentropy\",optimizer=\"adam\",metrics=[\"accuracy\"])"
   ]
  },
  {
   "cell_type": "code",
   "execution_count": 29,
   "metadata": {},
   "outputs": [
    {
     "name": "stdout",
     "output_type": "stream",
     "text": [
      "Epoch 1/500\n",
      "81/81 [==============================] - 1s 1ms/step - loss: 5.1661 - accuracy: 0.5090\n",
      "Epoch 2/500\n",
      "81/81 [==============================] - 0s 1ms/step - loss: 4.7584 - accuracy: 0.5140\n",
      "Epoch 3/500\n",
      "81/81 [==============================] - 0s 952us/step - loss: 4.1417 - accuracy: 0.5097\n",
      "Epoch 4/500\n",
      "81/81 [==============================] - 0s 786us/step - loss: 3.9107 - accuracy: 0.5246\n",
      "Epoch 5/500\n",
      "81/81 [==============================] - 0s 804us/step - loss: 3.6882 - accuracy: 0.5183\n",
      "Epoch 6/500\n",
      "81/81 [==============================] - 0s 783us/step - loss: 3.4440 - accuracy: 0.5273\n",
      "Epoch 7/500\n",
      "81/81 [==============================] - 0s 827us/step - loss: 3.4571 - accuracy: 0.5242\n",
      "Epoch 8/500\n",
      "81/81 [==============================] - 0s 775us/step - loss: 3.3285 - accuracy: 0.5210\n",
      "Epoch 9/500\n",
      "81/81 [==============================] - 0s 788us/step - loss: 3.2024 - accuracy: 0.5078\n",
      "Epoch 10/500\n",
      "81/81 [==============================] - 0s 781us/step - loss: 3.1924 - accuracy: 0.5179\n",
      "Epoch 11/500\n",
      "81/81 [==============================] - 0s 814us/step - loss: 2.8877 - accuracy: 0.5327\n",
      "Epoch 12/500\n",
      "81/81 [==============================] - 0s 801us/step - loss: 3.0410 - accuracy: 0.5207\n",
      "Epoch 13/500\n",
      "81/81 [==============================] - 0s 800us/step - loss: 2.9007 - accuracy: 0.5140\n",
      "Epoch 14/500\n",
      "81/81 [==============================] - 0s 777us/step - loss: 2.8174 - accuracy: 0.5308\n",
      "Epoch 15/500\n",
      "81/81 [==============================] - 0s 802us/step - loss: 2.7923 - accuracy: 0.5265\n",
      "Epoch 16/500\n",
      "81/81 [==============================] - 0s 796us/step - loss: 3.0118 - accuracy: 0.5359\n",
      "Epoch 17/500\n",
      "81/81 [==============================] - 0s 806us/step - loss: 2.8904 - accuracy: 0.5226\n",
      "Epoch 18/500\n",
      "81/81 [==============================] - 0s 814us/step - loss: 2.9225 - accuracy: 0.5417\n",
      "Epoch 19/500\n",
      "81/81 [==============================] - 0s 823us/step - loss: 2.8893 - accuracy: 0.5308\n",
      "Epoch 20/500\n",
      "81/81 [==============================] - 0s 811us/step - loss: 3.0176 - accuracy: 0.5413\n",
      "Epoch 21/500\n",
      "81/81 [==============================] - 0s 785us/step - loss: 2.9797 - accuracy: 0.5331\n",
      "Epoch 22/500\n",
      "81/81 [==============================] - 0s 773us/step - loss: 2.6853 - accuracy: 0.5436\n",
      "Epoch 23/500\n",
      "81/81 [==============================] - 0s 788us/step - loss: 2.7062 - accuracy: 0.5604\n",
      "Epoch 24/500\n",
      "81/81 [==============================] - 0s 766us/step - loss: 2.6819 - accuracy: 0.5405\n",
      "Epoch 25/500\n",
      "81/81 [==============================] - 0s 770us/step - loss: 2.8047 - accuracy: 0.5561\n",
      "Epoch 26/500\n",
      "81/81 [==============================] - 0s 774us/step - loss: 2.8733 - accuracy: 0.5491\n",
      "Epoch 27/500\n",
      "81/81 [==============================] - 0s 792us/step - loss: 2.7291 - accuracy: 0.5522\n",
      "Epoch 28/500\n",
      "81/81 [==============================] - 0s 809us/step - loss: 2.6421 - accuracy: 0.5549\n",
      "Epoch 29/500\n",
      "81/81 [==============================] - 0s 807us/step - loss: 2.9512 - accuracy: 0.5526\n",
      "Epoch 30/500\n",
      "81/81 [==============================] - 0s 812us/step - loss: 2.6466 - accuracy: 0.5511\n",
      "Epoch 31/500\n",
      "81/81 [==============================] - 0s 816us/step - loss: 2.5506 - accuracy: 0.5651\n",
      "Epoch 32/500\n",
      "81/81 [==============================] - 0s 795us/step - loss: 2.5461 - accuracy: 0.5822\n",
      "Epoch 33/500\n",
      "81/81 [==============================] - 0s 805us/step - loss: 2.6808 - accuracy: 0.5666\n",
      "Epoch 34/500\n",
      "81/81 [==============================] - 0s 795us/step - loss: 2.7081 - accuracy: 0.5678\n",
      "Epoch 35/500\n",
      "81/81 [==============================] - 0s 827us/step - loss: 2.7101 - accuracy: 0.5670\n",
      "Epoch 36/500\n",
      "81/81 [==============================] - 0s 813us/step - loss: 2.5116 - accuracy: 0.5674\n",
      "Epoch 37/500\n",
      "81/81 [==============================] - 0s 828us/step - loss: 2.4792 - accuracy: 0.5830\n",
      "Epoch 38/500\n",
      "81/81 [==============================] - 0s 830us/step - loss: 2.6418 - accuracy: 0.5861\n",
      "Epoch 39/500\n",
      "81/81 [==============================] - 0s 825us/step - loss: 2.5018 - accuracy: 0.5717\n",
      "Epoch 40/500\n",
      "81/81 [==============================] - 0s 943us/step - loss: 2.5498 - accuracy: 0.5892\n",
      "Epoch 41/500\n",
      "81/81 [==============================] - 0s 808us/step - loss: 2.4915 - accuracy: 0.5721\n",
      "Epoch 42/500\n",
      "81/81 [==============================] - 0s 828us/step - loss: 2.3465 - accuracy: 0.5643\n",
      "Epoch 43/500\n",
      "81/81 [==============================] - 0s 802us/step - loss: 2.4194 - accuracy: 0.5616\n",
      "Epoch 44/500\n",
      "81/81 [==============================] - 0s 826us/step - loss: 2.3717 - accuracy: 0.5924\n",
      "Epoch 45/500\n",
      "81/81 [==============================] - 0s 829us/step - loss: 2.2797 - accuracy: 0.6107\n",
      "Epoch 46/500\n",
      "81/81 [==============================] - 0s 804us/step - loss: 2.3423 - accuracy: 0.6115\n",
      "Epoch 47/500\n",
      "81/81 [==============================] - 0s 821us/step - loss: 2.3189 - accuracy: 0.6025\n",
      "Epoch 48/500\n",
      "81/81 [==============================] - 0s 839us/step - loss: 2.2067 - accuracy: 0.6107\n",
      "Epoch 49/500\n",
      "81/81 [==============================] - 0s 781us/step - loss: 2.5190 - accuracy: 0.6068\n",
      "Epoch 50/500\n",
      "81/81 [==============================] - 0s 813us/step - loss: 2.2076 - accuracy: 0.6072\n",
      "Epoch 51/500\n",
      "81/81 [==============================] - 0s 809us/step - loss: 2.1503 - accuracy: 0.6107\n",
      "Epoch 52/500\n",
      "81/81 [==============================] - 0s 823us/step - loss: 2.2951 - accuracy: 0.6013\n",
      "Epoch 53/500\n",
      "81/81 [==============================] - 0s 830us/step - loss: 2.2240 - accuracy: 0.5873\n",
      "Epoch 54/500\n",
      "81/81 [==============================] - 0s 780us/step - loss: 2.2938 - accuracy: 0.6134\n",
      "Epoch 55/500\n",
      "81/81 [==============================] - 0s 790us/step - loss: 2.1663 - accuracy: 0.6041\n",
      "Epoch 56/500\n",
      "81/81 [==============================] - 0s 764us/step - loss: 2.1531 - accuracy: 0.6341\n",
      "Epoch 57/500\n",
      "81/81 [==============================] - 0s 781us/step - loss: 2.3854 - accuracy: 0.6255\n",
      "Epoch 58/500\n",
      "81/81 [==============================] - 0s 756us/step - loss: 2.0807 - accuracy: 0.6270\n",
      "Epoch 59/500\n",
      "81/81 [==============================] - 0s 768us/step - loss: 2.1662 - accuracy: 0.6376\n",
      "Epoch 60/500\n",
      "81/81 [==============================] - 0s 774us/step - loss: 2.1510 - accuracy: 0.6481\n",
      "Epoch 61/500\n",
      "81/81 [==============================] - 0s 778us/step - loss: 2.0523 - accuracy: 0.6458\n",
      "Epoch 62/500\n",
      "81/81 [==============================] - 0s 790us/step - loss: 2.2250 - accuracy: 0.6508\n",
      "Epoch 63/500\n",
      "81/81 [==============================] - 0s 774us/step - loss: 2.0997 - accuracy: 0.6446\n",
      "Epoch 64/500\n",
      "81/81 [==============================] - 0s 771us/step - loss: 2.0719 - accuracy: 0.6516\n",
      "Epoch 65/500\n",
      "81/81 [==============================] - 0s 778us/step - loss: 2.0159 - accuracy: 0.6485\n",
      "Epoch 66/500\n",
      "81/81 [==============================] - 0s 776us/step - loss: 2.0003 - accuracy: 0.6489\n",
      "Epoch 67/500\n",
      "81/81 [==============================] - 0s 798us/step - loss: 2.1107 - accuracy: 0.6641\n",
      "Epoch 68/500\n",
      "81/81 [==============================] - 0s 775us/step - loss: 2.0423 - accuracy: 0.6582\n",
      "Epoch 69/500\n",
      "81/81 [==============================] - 0s 769us/step - loss: 2.0951 - accuracy: 0.6629\n",
      "Epoch 70/500\n",
      "81/81 [==============================] - 0s 765us/step - loss: 2.0390 - accuracy: 0.6672\n",
      "Epoch 71/500\n",
      "81/81 [==============================] - 0s 776us/step - loss: 2.1243 - accuracy: 0.6773\n",
      "Epoch 72/500\n",
      "81/81 [==============================] - 0s 744us/step - loss: 2.0273 - accuracy: 0.6574\n",
      "Epoch 73/500\n",
      "81/81 [==============================] - 0s 780us/step - loss: 1.9861 - accuracy: 0.6555\n",
      "Epoch 74/500\n",
      "81/81 [==============================] - 0s 765us/step - loss: 1.9893 - accuracy: 0.6855\n",
      "Epoch 75/500\n",
      "81/81 [==============================] - 0s 790us/step - loss: 2.0242 - accuracy: 0.6824\n",
      "Epoch 76/500\n",
      "81/81 [==============================] - 0s 799us/step - loss: 2.1387 - accuracy: 0.6707\n",
      "Epoch 77/500\n",
      "81/81 [==============================] - 0s 780us/step - loss: 2.0805 - accuracy: 0.6839\n",
      "Epoch 78/500\n",
      "81/81 [==============================] - 0s 787us/step - loss: 2.0712 - accuracy: 0.6781\n",
      "Epoch 79/500\n",
      "81/81 [==============================] - 0s 805us/step - loss: 2.0534 - accuracy: 0.6890\n",
      "Epoch 80/500\n",
      "81/81 [==============================] - 0s 775us/step - loss: 1.8509 - accuracy: 0.6972\n",
      "Epoch 81/500\n"
     ]
    },
    {
     "name": "stdout",
     "output_type": "stream",
     "text": [
      "81/81 [==============================] - 0s 770us/step - loss: 2.1117 - accuracy: 0.6824\n",
      "Epoch 82/500\n",
      "81/81 [==============================] - 0s 760us/step - loss: 2.0203 - accuracy: 0.7019\n",
      "Epoch 83/500\n",
      "81/81 [==============================] - 0s 755us/step - loss: 1.9687 - accuracy: 0.7104\n",
      "Epoch 84/500\n",
      "81/81 [==============================] - 0s 756us/step - loss: 1.9279 - accuracy: 0.6824\n",
      "Epoch 85/500\n",
      "81/81 [==============================] - 0s 757us/step - loss: 1.9903 - accuracy: 0.7023\n",
      "Epoch 86/500\n",
      "81/81 [==============================] - 0s 750us/step - loss: 1.7414 - accuracy: 0.7241\n",
      "Epoch 87/500\n",
      "81/81 [==============================] - 0s 754us/step - loss: 1.9354 - accuracy: 0.7190\n",
      "Epoch 88/500\n",
      "81/81 [==============================] - 0s 754us/step - loss: 1.8611 - accuracy: 0.6828\n",
      "Epoch 89/500\n",
      "81/81 [==============================] - 0s 728us/step - loss: 2.0352 - accuracy: 0.7190\n",
      "Epoch 90/500\n",
      "81/81 [==============================] - 0s 727us/step - loss: 1.8948 - accuracy: 0.7186\n",
      "Epoch 91/500\n",
      "81/81 [==============================] - 0s 748us/step - loss: 1.9029 - accuracy: 0.7401\n",
      "Epoch 92/500\n",
      "81/81 [==============================] - 0s 749us/step - loss: 1.8804 - accuracy: 0.7397\n",
      "Epoch 93/500\n",
      "81/81 [==============================] - 0s 753us/step - loss: 1.9090 - accuracy: 0.7354\n",
      "Epoch 94/500\n",
      "81/81 [==============================] - 0s 753us/step - loss: 1.8625 - accuracy: 0.7436\n",
      "Epoch 95/500\n",
      "81/81 [==============================] - 0s 754us/step - loss: 2.0632 - accuracy: 0.7330\n",
      "Epoch 96/500\n",
      "81/81 [==============================] - 0s 768us/step - loss: 2.0516 - accuracy: 0.7097\n",
      "Epoch 97/500\n",
      "81/81 [==============================] - 0s 756us/step - loss: 1.9490 - accuracy: 0.7412\n",
      "Epoch 98/500\n",
      "81/81 [==============================] - 0s 772us/step - loss: 2.0331 - accuracy: 0.7373\n",
      "Epoch 99/500\n",
      "81/81 [==============================] - 0s 800us/step - loss: 1.9296 - accuracy: 0.7459\n",
      "Epoch 100/500\n",
      "81/81 [==============================] - 0s 1ms/step - loss: 1.9397 - accuracy: 0.7541\n",
      "Epoch 101/500\n",
      "81/81 [==============================] - 0s 794us/step - loss: 1.8248 - accuracy: 0.7584\n",
      "Epoch 102/500\n",
      "81/81 [==============================] - 0s 770us/step - loss: 2.0370 - accuracy: 0.7459\n",
      "Epoch 103/500\n",
      "81/81 [==============================] - 0s 764us/step - loss: 1.8821 - accuracy: 0.7486\n",
      "Epoch 104/500\n",
      "81/81 [==============================] - 0s 774us/step - loss: 1.8392 - accuracy: 0.7650\n",
      "Epoch 105/500\n",
      "81/81 [==============================] - 0s 760us/step - loss: 1.9147 - accuracy: 0.7627\n",
      "Epoch 106/500\n",
      "81/81 [==============================] - 0s 946us/step - loss: 1.8935 - accuracy: 0.7486\n",
      "Epoch 107/500\n",
      "81/81 [==============================] - 0s 754us/step - loss: 1.9371 - accuracy: 0.7584\n",
      "Epoch 108/500\n",
      "81/81 [==============================] - 0s 746us/step - loss: 1.9262 - accuracy: 0.7619\n",
      "Epoch 109/500\n",
      "81/81 [==============================] - 0s 737us/step - loss: 1.8904 - accuracy: 0.7631\n",
      "Epoch 110/500\n",
      "81/81 [==============================] - 0s 750us/step - loss: 1.9016 - accuracy: 0.7666\n",
      "Epoch 111/500\n",
      "81/81 [==============================] - 0s 736us/step - loss: 1.8714 - accuracy: 0.7662\n",
      "Epoch 112/500\n",
      "81/81 [==============================] - 0s 735us/step - loss: 1.9073 - accuracy: 0.7802\n",
      "Epoch 113/500\n",
      "81/81 [==============================] - 0s 744us/step - loss: 1.9516 - accuracy: 0.7755\n",
      "Epoch 114/500\n",
      "81/81 [==============================] - 0s 751us/step - loss: 1.7898 - accuracy: 0.7786\n",
      "Epoch 115/500\n",
      "81/81 [==============================] - 0s 752us/step - loss: 1.8609 - accuracy: 0.7849\n",
      "Epoch 116/500\n",
      "81/81 [==============================] - 0s 748us/step - loss: 1.9829 - accuracy: 0.7549\n",
      "Epoch 117/500\n",
      "81/81 [==============================] - 0s 741us/step - loss: 1.7742 - accuracy: 0.7751\n",
      "Epoch 118/500\n",
      "81/81 [==============================] - 0s 771us/step - loss: 1.8903 - accuracy: 0.7864\n",
      "Epoch 119/500\n",
      "81/81 [==============================] - 0s 780us/step - loss: 1.8561 - accuracy: 0.7650\n",
      "Epoch 120/500\n",
      "81/81 [==============================] - 0s 765us/step - loss: 1.7923 - accuracy: 0.7779\n",
      "Epoch 121/500\n",
      "81/81 [==============================] - 0s 785us/step - loss: 1.7798 - accuracy: 0.7899\n",
      "Epoch 122/500\n",
      "81/81 [==============================] - 0s 778us/step - loss: 1.8017 - accuracy: 0.8012\n",
      "Epoch 123/500\n",
      "81/81 [==============================] - 0s 778us/step - loss: 1.9061 - accuracy: 0.7942\n",
      "Epoch 124/500\n",
      "81/81 [==============================] - 0s 765us/step - loss: 1.8575 - accuracy: 0.7825\n",
      "Epoch 125/500\n",
      "81/81 [==============================] - 0s 773us/step - loss: 1.7285 - accuracy: 0.7958\n",
      "Epoch 126/500\n",
      "81/81 [==============================] - 0s 770us/step - loss: 1.5882 - accuracy: 0.8118\n",
      "Epoch 127/500\n",
      "81/81 [==============================] - 0s 772us/step - loss: 1.8395 - accuracy: 0.7985\n",
      "Epoch 128/500\n",
      "81/81 [==============================] - 0s 781us/step - loss: 1.8410 - accuracy: 0.7942\n",
      "Epoch 129/500\n",
      "81/81 [==============================] - 0s 779us/step - loss: 1.7194 - accuracy: 0.8129\n",
      "Epoch 130/500\n",
      "81/81 [==============================] - 0s 754us/step - loss: 1.7845 - accuracy: 0.8036\n",
      "Epoch 131/500\n",
      "81/81 [==============================] - 0s 762us/step - loss: 1.7532 - accuracy: 0.8098\n",
      "Epoch 132/500\n",
      "81/81 [==============================] - 0s 770us/step - loss: 1.8047 - accuracy: 0.8106\n",
      "Epoch 133/500\n",
      "81/81 [==============================] - 0s 801us/step - loss: 1.8038 - accuracy: 0.7697\n",
      "Epoch 134/500\n",
      "81/81 [==============================] - 0s 783us/step - loss: 1.7418 - accuracy: 0.8137\n",
      "Epoch 135/500\n",
      "81/81 [==============================] - 0s 789us/step - loss: 1.7277 - accuracy: 0.8067\n",
      "Epoch 136/500\n",
      "81/81 [==============================] - 0s 785us/step - loss: 1.7643 - accuracy: 0.8083\n",
      "Epoch 137/500\n",
      "81/81 [==============================] - 0s 792us/step - loss: 1.7717 - accuracy: 0.8122\n",
      "Epoch 138/500\n",
      "81/81 [==============================] - 0s 747us/step - loss: 1.7525 - accuracy: 0.8157\n",
      "Epoch 139/500\n",
      "81/81 [==============================] - 0s 747us/step - loss: 1.8044 - accuracy: 0.8063\n",
      "Epoch 140/500\n",
      "81/81 [==============================] - 0s 744us/step - loss: 1.8868 - accuracy: 0.7299\n",
      "Epoch 141/500\n",
      "81/81 [==============================] - 0s 772us/step - loss: 1.8719 - accuracy: 0.6898\n",
      "Epoch 142/500\n",
      "81/81 [==============================] - 0s 779us/step - loss: 1.7711 - accuracy: 0.7592\n",
      "Epoch 143/500\n",
      "81/81 [==============================] - 0s 766us/step - loss: 1.7757 - accuracy: 0.7810\n",
      "Epoch 144/500\n",
      "81/81 [==============================] - 0s 763us/step - loss: 1.8393 - accuracy: 0.7919\n",
      "Epoch 145/500\n",
      "81/81 [==============================] - 0s 767us/step - loss: 1.7911 - accuracy: 0.7977\n",
      "Epoch 146/500\n",
      "81/81 [==============================] - 0s 779us/step - loss: 1.8903 - accuracy: 0.7946\n",
      "Epoch 147/500\n",
      "81/81 [==============================] - 0s 745us/step - loss: 1.6792 - accuracy: 0.8040\n",
      "Epoch 148/500\n",
      "81/81 [==============================] - 0s 753us/step - loss: 1.5990 - accuracy: 0.8164\n",
      "Epoch 149/500\n",
      "81/81 [==============================] - 0s 784us/step - loss: 1.9381 - accuracy: 0.7915\n",
      "Epoch 150/500\n",
      "81/81 [==============================] - 0s 776us/step - loss: 1.9566 - accuracy: 0.7970\n",
      "Epoch 151/500\n",
      "81/81 [==============================] - 0s 765us/step - loss: 1.7427 - accuracy: 0.8180\n",
      "Epoch 152/500\n",
      "81/81 [==============================] - 0s 758us/step - loss: 1.8768 - accuracy: 0.7989\n",
      "Epoch 153/500\n",
      "81/81 [==============================] - 0s 780us/step - loss: 1.6727 - accuracy: 0.8246\n",
      "Epoch 154/500\n",
      "81/81 [==============================] - 0s 795us/step - loss: 1.6835 - accuracy: 0.8250\n",
      "Epoch 155/500\n",
      "81/81 [==============================] - 0s 821us/step - loss: 1.8467 - accuracy: 0.8227\n",
      "Epoch 156/500\n",
      "81/81 [==============================] - 0s 818us/step - loss: 1.7047 - accuracy: 0.8336\n",
      "Epoch 157/500\n",
      "81/81 [==============================] - 0s 804us/step - loss: 1.8201 - accuracy: 0.8262\n",
      "Epoch 158/500\n",
      "81/81 [==============================] - 0s 793us/step - loss: 1.6393 - accuracy: 0.8332\n",
      "Epoch 159/500\n",
      "81/81 [==============================] - 0s 829us/step - loss: 1.7894 - accuracy: 0.8250\n",
      "Epoch 160/500\n"
     ]
    },
    {
     "name": "stdout",
     "output_type": "stream",
     "text": [
      "81/81 [==============================] - 0s 899us/step - loss: 1.9402 - accuracy: 0.8161\n",
      "Epoch 161/500\n",
      "81/81 [==============================] - 0s 798us/step - loss: 1.6838 - accuracy: 0.8301\n",
      "Epoch 162/500\n",
      "81/81 [==============================] - 0s 795us/step - loss: 1.8079 - accuracy: 0.8254\n",
      "Epoch 163/500\n",
      "81/81 [==============================] - 0s 853us/step - loss: 1.7046 - accuracy: 0.8375\n",
      "Epoch 164/500\n",
      "81/81 [==============================] - 0s 841us/step - loss: 1.8946 - accuracy: 0.8281\n",
      "Epoch 165/500\n",
      "81/81 [==============================] - 0s 867us/step - loss: 1.6519 - accuracy: 0.8387\n",
      "Epoch 166/500\n",
      "81/81 [==============================] - 0s 778us/step - loss: 1.6401 - accuracy: 0.8390\n",
      "Epoch 167/500\n",
      "81/81 [==============================] - 0s 759us/step - loss: 1.5935 - accuracy: 0.8531\n",
      "Epoch 168/500\n",
      "81/81 [==============================] - 0s 763us/step - loss: 1.8011 - accuracy: 0.8313\n",
      "Epoch 169/500\n",
      "81/81 [==============================] - 0s 765us/step - loss: 1.6637 - accuracy: 0.8371\n",
      "Epoch 170/500\n",
      "81/81 [==============================] - 0s 727us/step - loss: 1.7507 - accuracy: 0.8239\n",
      "Epoch 171/500\n",
      "81/81 [==============================] - 0s 725us/step - loss: 1.7156 - accuracy: 0.8457\n",
      "Epoch 172/500\n",
      "81/81 [==============================] - 0s 729us/step - loss: 1.7626 - accuracy: 0.8305\n",
      "Epoch 173/500\n",
      "81/81 [==============================] - 0s 798us/step - loss: 1.8012 - accuracy: 0.8309\n",
      "Epoch 174/500\n",
      "81/81 [==============================] - 0s 775us/step - loss: 1.6994 - accuracy: 0.8410\n",
      "Epoch 175/500\n",
      "81/81 [==============================] - 0s 812us/step - loss: 1.6864 - accuracy: 0.8414\n",
      "Epoch 176/500\n",
      "81/81 [==============================] - 0s 1ms/step - loss: 1.5836 - accuracy: 0.8441\n",
      "Epoch 177/500\n",
      "81/81 [==============================] - 0s 2ms/step - loss: 1.7559 - accuracy: 0.8406\n",
      "Epoch 178/500\n",
      "81/81 [==============================] - 0s 835us/step - loss: 1.6391 - accuracy: 0.8461\n",
      "Epoch 179/500\n",
      "81/81 [==============================] - 0s 978us/step - loss: 1.8538 - accuracy: 0.8289\n",
      "Epoch 180/500\n",
      "81/81 [==============================] - 0s 975us/step - loss: 1.7921 - accuracy: 0.8383\n",
      "Epoch 181/500\n",
      "81/81 [==============================] - 0s 916us/step - loss: 1.8002 - accuracy: 0.8429\n",
      "Epoch 182/500\n",
      "81/81 [==============================] - 0s 831us/step - loss: 1.7108 - accuracy: 0.8398\n",
      "Epoch 183/500\n",
      "81/81 [==============================] - 0s 877us/step - loss: 1.6889 - accuracy: 0.8437\n",
      "Epoch 184/500\n",
      "81/81 [==============================] - 0s 805us/step - loss: 1.6828 - accuracy: 0.8500\n",
      "Epoch 185/500\n",
      "81/81 [==============================] - 0s 757us/step - loss: 1.7452 - accuracy: 0.8437\n",
      "Epoch 186/500\n",
      "81/81 [==============================] - 0s 734us/step - loss: 1.7051 - accuracy: 0.8394\n",
      "Epoch 187/500\n",
      "81/81 [==============================] - 0s 720us/step - loss: 1.7132 - accuracy: 0.8476\n",
      "Epoch 188/500\n",
      "81/81 [==============================] - 0s 725us/step - loss: 1.6057 - accuracy: 0.8578\n",
      "Epoch 189/500\n",
      "81/81 [==============================] - 0s 740us/step - loss: 1.7248 - accuracy: 0.8394\n",
      "Epoch 190/500\n",
      "81/81 [==============================] - 0s 752us/step - loss: 1.8843 - accuracy: 0.7623\n",
      "Epoch 191/500\n",
      "81/81 [==============================] - 0s 800us/step - loss: 2.0251 - accuracy: 0.6820\n",
      "Epoch 192/500\n",
      "81/81 [==============================] - 0s 791us/step - loss: 1.7663 - accuracy: 0.7541\n",
      "Epoch 193/500\n",
      "81/81 [==============================] - 0s 787us/step - loss: 1.6504 - accuracy: 0.8203\n",
      "Epoch 194/500\n",
      "81/81 [==============================] - 0s 769us/step - loss: 1.7990 - accuracy: 0.8305\n",
      "Epoch 195/500\n",
      "81/81 [==============================] - 0s 773us/step - loss: 1.5433 - accuracy: 0.8437\n",
      "Epoch 196/500\n",
      "81/81 [==============================] - 0s 771us/step - loss: 1.5796 - accuracy: 0.8387\n",
      "Epoch 197/500\n",
      "81/81 [==============================] - 0s 774us/step - loss: 1.8280 - accuracy: 0.8293\n",
      "Epoch 198/500\n",
      "81/81 [==============================] - 0s 776us/step - loss: 1.6017 - accuracy: 0.8519\n",
      "Epoch 199/500\n",
      "81/81 [==============================] - 0s 737us/step - loss: 1.7548 - accuracy: 0.8429\n",
      "Epoch 200/500\n",
      "81/81 [==============================] - 0s 809us/step - loss: 1.6631 - accuracy: 0.8504\n",
      "Epoch 201/500\n",
      "81/81 [==============================] - 0s 784us/step - loss: 1.6729 - accuracy: 0.8511\n",
      "Epoch 202/500\n",
      "81/81 [==============================] - 0s 802us/step - loss: 1.7782 - accuracy: 0.8433\n",
      "Epoch 203/500\n",
      "81/81 [==============================] - 0s 752us/step - loss: 1.6943 - accuracy: 0.8527\n",
      "Epoch 204/500\n",
      "81/81 [==============================] - 0s 731us/step - loss: 1.5749 - accuracy: 0.8527\n",
      "Epoch 205/500\n",
      "81/81 [==============================] - 0s 771us/step - loss: 1.5638 - accuracy: 0.8589\n",
      "Epoch 206/500\n",
      "81/81 [==============================] - 0s 892us/step - loss: 1.6876 - accuracy: 0.8507\n",
      "Epoch 207/500\n",
      "81/81 [==============================] - 0s 1ms/step - loss: 1.6246 - accuracy: 0.8570\n",
      "Epoch 208/500\n",
      "81/81 [==============================] - 0s 787us/step - loss: 1.5780 - accuracy: 0.8574\n",
      "Epoch 209/500\n",
      "81/81 [==============================] - 0s 791us/step - loss: 1.5847 - accuracy: 0.8589\n",
      "Epoch 210/500\n",
      "81/81 [==============================] - 0s 1ms/step - loss: 1.7628 - accuracy: 0.8527\n",
      "Epoch 211/500\n",
      "81/81 [==============================] - 0s 957us/step - loss: 1.6342 - accuracy: 0.8585\n",
      "Epoch 212/500\n",
      "81/81 [==============================] - 0s 893us/step - loss: 1.7751 - accuracy: 0.8535\n",
      "Epoch 213/500\n",
      "81/81 [==============================] - 0s 954us/step - loss: 1.5191 - accuracy: 0.8632\n",
      "Epoch 214/500\n",
      "81/81 [==============================] - 0s 920us/step - loss: 1.7302 - accuracy: 0.8519\n",
      "Epoch 215/500\n",
      "81/81 [==============================] - 0s 962us/step - loss: 1.7489 - accuracy: 0.8535\n",
      "Epoch 216/500\n",
      "81/81 [==============================] - 0s 955us/step - loss: 1.6531 - accuracy: 0.8620\n",
      "Epoch 217/500\n",
      "81/81 [==============================] - 0s 1ms/step - loss: 1.7258 - accuracy: 0.8550\n",
      "Epoch 218/500\n",
      "81/81 [==============================] - 0s 861us/step - loss: 1.6640 - accuracy: 0.8605\n",
      "Epoch 219/500\n",
      "81/81 [==============================] - 0s 722us/step - loss: 1.7274 - accuracy: 0.8531\n",
      "Epoch 220/500\n",
      "81/81 [==============================] - 0s 717us/step - loss: 1.6802 - accuracy: 0.8605\n",
      "Epoch 221/500\n",
      "81/81 [==============================] - 0s 718us/step - loss: 1.6206 - accuracy: 0.8628\n",
      "Epoch 222/500\n",
      "81/81 [==============================] - 0s 769us/step - loss: 1.6660 - accuracy: 0.8441\n",
      "Epoch 223/500\n",
      "81/81 [==============================] - 0s 823us/step - loss: 1.8152 - accuracy: 0.8426\n",
      "Epoch 224/500\n",
      "81/81 [==============================] - 0s 861us/step - loss: 1.7521 - accuracy: 0.8515\n",
      "Epoch 225/500\n",
      "81/81 [==============================] - 0s 816us/step - loss: 1.6789 - accuracy: 0.8550\n",
      "Epoch 226/500\n",
      "81/81 [==============================] - 0s 754us/step - loss: 1.7172 - accuracy: 0.8574\n",
      "Epoch 227/500\n",
      "81/81 [==============================] - 0s 710us/step - loss: 1.6711 - accuracy: 0.8613\n",
      "Epoch 228/500\n",
      "81/81 [==============================] - 0s 726us/step - loss: 1.8255 - accuracy: 0.8488\n",
      "Epoch 229/500\n",
      "81/81 [==============================] - 0s 747us/step - loss: 1.5979 - accuracy: 0.8710\n",
      "Epoch 230/500\n",
      "81/81 [==============================] - 0s 767us/step - loss: 1.6462 - accuracy: 0.8488\n",
      "Epoch 231/500\n",
      "81/81 [==============================] - 0s 760us/step - loss: 1.7657 - accuracy: 0.8515\n",
      "Epoch 232/500\n",
      "81/81 [==============================] - 0s 728us/step - loss: 1.5221 - accuracy: 0.8675\n",
      "Epoch 233/500\n",
      "81/81 [==============================] - 0s 724us/step - loss: 1.6143 - accuracy: 0.8628\n",
      "Epoch 234/500\n",
      "81/81 [==============================] - 0s 720us/step - loss: 1.6798 - accuracy: 0.8644\n",
      "Epoch 235/500\n",
      "81/81 [==============================] - 0s 717us/step - loss: 1.5699 - accuracy: 0.8714\n",
      "Epoch 236/500\n",
      "81/81 [==============================] - 0s 730us/step - loss: 1.4754 - accuracy: 0.8800\n",
      "Epoch 237/500\n",
      "81/81 [==============================] - 0s 730us/step - loss: 1.6326 - accuracy: 0.8655\n",
      "Epoch 238/500\n",
      "81/81 [==============================] - 0s 739us/step - loss: 1.6213 - accuracy: 0.8663\n",
      "Epoch 239/500\n"
     ]
    },
    {
     "name": "stdout",
     "output_type": "stream",
     "text": [
      "81/81 [==============================] - 0s 719us/step - loss: 1.5997 - accuracy: 0.8644\n",
      "Epoch 240/500\n",
      "81/81 [==============================] - 0s 732us/step - loss: 1.5974 - accuracy: 0.8648\n",
      "Epoch 241/500\n",
      "81/81 [==============================] - 0s 749us/step - loss: 1.7636 - accuracy: 0.8554\n",
      "Epoch 242/500\n",
      "81/81 [==============================] - 0s 761us/step - loss: 1.6709 - accuracy: 0.8679\n",
      "Epoch 243/500\n",
      "81/81 [==============================] - 0s 770us/step - loss: 1.5704 - accuracy: 0.8741\n",
      "Epoch 244/500\n",
      "81/81 [==============================] - 0s 779us/step - loss: 1.6410 - accuracy: 0.8617\n",
      "Epoch 245/500\n",
      "81/81 [==============================] - 0s 773us/step - loss: 1.7624 - accuracy: 0.8593\n",
      "Epoch 246/500\n",
      "81/81 [==============================] - 0s 764us/step - loss: 1.6526 - accuracy: 0.8718\n",
      "Epoch 247/500\n",
      "81/81 [==============================] - 0s 745us/step - loss: 1.5426 - accuracy: 0.8741\n",
      "Epoch 248/500\n",
      "81/81 [==============================] - 0s 734us/step - loss: 1.6462 - accuracy: 0.8687\n",
      "Epoch 249/500\n",
      "81/81 [==============================] - 0s 752us/step - loss: 1.6051 - accuracy: 0.8753\n",
      "Epoch 250/500\n",
      "81/81 [==============================] - 0s 948us/step - loss: 1.6271 - accuracy: 0.8714\n",
      "Epoch 251/500\n",
      "81/81 [==============================] - 0s 778us/step - loss: 1.6724 - accuracy: 0.8640\n",
      "Epoch 252/500\n",
      "81/81 [==============================] - 0s 738us/step - loss: 1.4949 - accuracy: 0.8819\n",
      "Epoch 253/500\n",
      "81/81 [==============================] - 0s 744us/step - loss: 1.5921 - accuracy: 0.8741\n",
      "Epoch 254/500\n",
      "81/81 [==============================] - 0s 848us/step - loss: 1.6247 - accuracy: 0.8706\n",
      "Epoch 255/500\n",
      "81/81 [==============================] - 0s 903us/step - loss: 1.6498 - accuracy: 0.8722\n",
      "Epoch 256/500\n",
      "81/81 [==============================] - 0s 866us/step - loss: 1.7002 - accuracy: 0.8624\n",
      "Epoch 257/500\n",
      "81/81 [==============================] - 0s 846us/step - loss: 1.7398 - accuracy: 0.8624\n",
      "Epoch 258/500\n",
      "81/81 [==============================] - 0s 732us/step - loss: 1.5877 - accuracy: 0.8780\n",
      "Epoch 259/500\n",
      "81/81 [==============================] - 0s 733us/step - loss: 1.7278 - accuracy: 0.8659\n",
      "Epoch 260/500\n",
      "81/81 [==============================] - 0s 712us/step - loss: 1.5851 - accuracy: 0.8753\n",
      "Epoch 261/500\n",
      "81/81 [==============================] - 0s 735us/step - loss: 1.5400 - accuracy: 0.8807\n",
      "Epoch 262/500\n",
      "81/81 [==============================] - 0s 746us/step - loss: 1.6029 - accuracy: 0.8726\n",
      "Epoch 263/500\n",
      "81/81 [==============================] - 0s 797us/step - loss: 1.8242 - accuracy: 0.8605\n",
      "Epoch 264/500\n",
      "81/81 [==============================] - 0s 743us/step - loss: 1.6615 - accuracy: 0.8675\n",
      "Epoch 265/500\n",
      "81/81 [==============================] - 0s 720us/step - loss: 1.6106 - accuracy: 0.8753\n",
      "Epoch 266/500\n",
      "81/81 [==============================] - 0s 763us/step - loss: 1.6719 - accuracy: 0.8698\n",
      "Epoch 267/500\n",
      "81/81 [==============================] - 0s 757us/step - loss: 1.6147 - accuracy: 0.8765\n",
      "Epoch 268/500\n",
      "81/81 [==============================] - 0s 739us/step - loss: 1.5873 - accuracy: 0.8784\n",
      "Epoch 269/500\n",
      "81/81 [==============================] - 0s 740us/step - loss: 1.7278 - accuracy: 0.8609\n",
      "Epoch 270/500\n",
      "81/81 [==============================] - 0s 735us/step - loss: 1.5133 - accuracy: 0.8862\n",
      "Epoch 271/500\n",
      "81/81 [==============================] - 0s 741us/step - loss: 1.6472 - accuracy: 0.8726\n",
      "Epoch 272/500\n",
      "81/81 [==============================] - 0s 731us/step - loss: 1.7247 - accuracy: 0.8694\n",
      "Epoch 273/500\n",
      "81/81 [==============================] - 0s 722us/step - loss: 1.5114 - accuracy: 0.8706\n",
      "Epoch 274/500\n",
      "81/81 [==============================] - 0s 734us/step - loss: 1.6197 - accuracy: 0.8390\n",
      "Epoch 275/500\n",
      "81/81 [==============================] - 0s 731us/step - loss: 1.7020 - accuracy: 0.8402\n",
      "Epoch 276/500\n",
      "81/81 [==============================] - 0s 731us/step - loss: 1.7255 - accuracy: 0.8441\n",
      "Epoch 277/500\n",
      "81/81 [==============================] - 0s 740us/step - loss: 1.7702 - accuracy: 0.8488\n",
      "Epoch 278/500\n",
      "81/81 [==============================] - 0s 738us/step - loss: 1.6372 - accuracy: 0.8679\n",
      "Epoch 279/500\n",
      "81/81 [==============================] - 0s 754us/step - loss: 1.7109 - accuracy: 0.8593\n",
      "Epoch 280/500\n",
      "81/81 [==============================] - 0s 746us/step - loss: 1.6837 - accuracy: 0.8675\n",
      "Epoch 281/500\n",
      "81/81 [==============================] - 0s 741us/step - loss: 1.5996 - accuracy: 0.8749\n",
      "Epoch 282/500\n",
      "81/81 [==============================] - 0s 733us/step - loss: 1.5842 - accuracy: 0.8769\n",
      "Epoch 283/500\n",
      "81/81 [==============================] - 0s 734us/step - loss: 1.7139 - accuracy: 0.8702\n",
      "Epoch 284/500\n",
      "81/81 [==============================] - 0s 759us/step - loss: 1.7326 - accuracy: 0.8710\n",
      "Epoch 285/500\n",
      "81/81 [==============================] - 0s 732us/step - loss: 1.6517 - accuracy: 0.8753\n",
      "Epoch 286/500\n",
      "81/81 [==============================] - 0s 737us/step - loss: 1.6666 - accuracy: 0.8741\n",
      "Epoch 287/500\n",
      "81/81 [==============================] - 0s 1ms/step - loss: 1.5333 - accuracy: 0.8780\n",
      "Epoch 288/500\n",
      "81/81 [==============================] - 0s 1ms/step - loss: 1.5428 - accuracy: 0.8780\n",
      "Epoch 289/500\n",
      "81/81 [==============================] - 0s 775us/step - loss: 1.5253 - accuracy: 0.8835\n",
      "Epoch 290/500\n",
      "81/81 [==============================] - 0s 784us/step - loss: 1.6117 - accuracy: 0.8784\n",
      "Epoch 291/500\n",
      "81/81 [==============================] - 0s 1ms/step - loss: 1.7327 - accuracy: 0.8749\n",
      "Epoch 292/500\n",
      "81/81 [==============================] - 0s 852us/step - loss: 1.6541 - accuracy: 0.8780\n",
      "Epoch 293/500\n",
      "81/81 [==============================] - 0s 804us/step - loss: 1.5410 - accuracy: 0.8858\n",
      "Epoch 294/500\n",
      "81/81 [==============================] - 0s 786us/step - loss: 1.5955 - accuracy: 0.8800\n",
      "Epoch 295/500\n",
      "81/81 [==============================] - 0s 743us/step - loss: 1.8466 - accuracy: 0.8675\n",
      "Epoch 296/500\n",
      "81/81 [==============================] - 0s 724us/step - loss: 1.6030 - accuracy: 0.8792\n",
      "Epoch 297/500\n",
      "81/81 [==============================] - 0s 725us/step - loss: 1.5518 - accuracy: 0.8839\n",
      "Epoch 298/500\n",
      "81/81 [==============================] - 0s 720us/step - loss: 1.7036 - accuracy: 0.8730\n",
      "Epoch 299/500\n",
      "81/81 [==============================] - 0s 735us/step - loss: 1.6307 - accuracy: 0.8788\n",
      "Epoch 300/500\n",
      "81/81 [==============================] - 0s 2ms/step - loss: 1.6845 - accuracy: 0.8788\n",
      "Epoch 301/500\n",
      "81/81 [==============================] - 0s 969us/step - loss: 1.7303 - accuracy: 0.8733\n",
      "Epoch 302/500\n",
      "81/81 [==============================] - 0s 967us/step - loss: 1.7720 - accuracy: 0.8679\n",
      "Epoch 303/500\n",
      "81/81 [==============================] - 0s 904us/step - loss: 1.5561 - accuracy: 0.8897\n",
      "Epoch 304/500\n",
      "81/81 [==============================] - 0s 842us/step - loss: 1.7008 - accuracy: 0.8659\n",
      "Epoch 305/500\n",
      "81/81 [==============================] - 0s 760us/step - loss: 1.7549 - accuracy: 0.8328\n",
      "Epoch 306/500\n",
      "81/81 [==============================] - 0s 793us/step - loss: 1.4811 - accuracy: 0.8917\n",
      "Epoch 307/500\n",
      "81/81 [==============================] - 0s 787us/step - loss: 1.3906 - accuracy: 0.8975\n",
      "Epoch 308/500\n",
      "81/81 [==============================] - 0s 887us/step - loss: 1.5054 - accuracy: 0.8889\n",
      "Epoch 309/500\n",
      "81/81 [==============================] - 0s 778us/step - loss: 1.6137 - accuracy: 0.8835\n",
      "Epoch 310/500\n",
      "81/81 [==============================] - 0s 731us/step - loss: 1.6932 - accuracy: 0.8698\n",
      "Epoch 311/500\n",
      "81/81 [==============================] - 0s 735us/step - loss: 1.4618 - accuracy: 0.8862\n",
      "Epoch 312/500\n",
      "81/81 [==============================] - 0s 734us/step - loss: 1.5170 - accuracy: 0.8831\n",
      "Epoch 313/500\n",
      "81/81 [==============================] - 0s 743us/step - loss: 1.6726 - accuracy: 0.8804\n",
      "Epoch 314/500\n",
      "81/81 [==============================] - 0s 728us/step - loss: 1.6471 - accuracy: 0.8807\n",
      "Epoch 315/500\n",
      "81/81 [==============================] - 0s 740us/step - loss: 1.5999 - accuracy: 0.8846\n",
      "Epoch 316/500\n",
      "81/81 [==============================] - 0s 734us/step - loss: 1.5309 - accuracy: 0.8858\n",
      "Epoch 317/500\n",
      "81/81 [==============================] - 0s 1ms/step - loss: 1.5713 - accuracy: 0.8839\n",
      "Epoch 318/500\n"
     ]
    },
    {
     "name": "stdout",
     "output_type": "stream",
     "text": [
      "81/81 [==============================] - 0s 849us/step - loss: 1.5384 - accuracy: 0.8874\n",
      "Epoch 319/500\n",
      "81/81 [==============================] - 0s 822us/step - loss: 1.5906 - accuracy: 0.8823\n",
      "Epoch 320/500\n",
      "81/81 [==============================] - 0s 844us/step - loss: 1.7926 - accuracy: 0.8691\n",
      "Epoch 321/500\n",
      "81/81 [==============================] - 0s 839us/step - loss: 1.5886 - accuracy: 0.8882\n",
      "Epoch 322/500\n",
      "81/81 [==============================] - 0s 831us/step - loss: 1.4822 - accuracy: 0.8928\n",
      "Epoch 323/500\n",
      "81/81 [==============================] - 0s 1ms/step - loss: 1.5549 - accuracy: 0.8858\n",
      "Epoch 324/500\n",
      "81/81 [==============================] - 0s 886us/step - loss: 1.5608 - accuracy: 0.8835\n",
      "Epoch 325/500\n",
      "81/81 [==============================] - 0s 840us/step - loss: 1.6493 - accuracy: 0.8807\n",
      "Epoch 326/500\n",
      "81/81 [==============================] - 0s 791us/step - loss: 1.4901 - accuracy: 0.8913\n",
      "Epoch 327/500\n",
      "81/81 [==============================] - 0s 730us/step - loss: 1.5485 - accuracy: 0.8862\n",
      "Epoch 328/500\n",
      "81/81 [==============================] - 0s 747us/step - loss: 1.5426 - accuracy: 0.8889\n",
      "Epoch 329/500\n",
      "81/81 [==============================] - 0s 797us/step - loss: 1.5840 - accuracy: 0.8870\n",
      "Epoch 330/500\n",
      "81/81 [==============================] - 0s 830us/step - loss: 1.5091 - accuracy: 0.8905\n",
      "Epoch 331/500\n",
      "81/81 [==============================] - 0s 1ms/step - loss: 1.5499 - accuracy: 0.8882\n",
      "Epoch 332/500\n",
      "81/81 [==============================] - 0s 838us/step - loss: 1.7055 - accuracy: 0.8811\n",
      "Epoch 333/500\n",
      "81/81 [==============================] - 0s 758us/step - loss: 1.4805 - accuracy: 0.8932\n",
      "Epoch 334/500\n",
      "81/81 [==============================] - 0s 738us/step - loss: 1.6349 - accuracy: 0.8827\n",
      "Epoch 335/500\n",
      "81/81 [==============================] - 0s 826us/step - loss: 1.5234 - accuracy: 0.8882\n",
      "Epoch 336/500\n",
      "81/81 [==============================] - 0s 890us/step - loss: 1.6258 - accuracy: 0.8772\n",
      "Epoch 337/500\n",
      "81/81 [==============================] - 0s 854us/step - loss: 1.7664 - accuracy: 0.8741\n",
      "Epoch 338/500\n",
      "81/81 [==============================] - 0s 800us/step - loss: 1.6567 - accuracy: 0.8804\n",
      "Epoch 339/500\n",
      "81/81 [==============================] - 0s 735us/step - loss: 1.6604 - accuracy: 0.8772\n",
      "Epoch 340/500\n",
      "81/81 [==============================] - 0s 723us/step - loss: 1.5950 - accuracy: 0.8878\n",
      "Epoch 341/500\n",
      "81/81 [==============================] - 0s 724us/step - loss: 1.6058 - accuracy: 0.8870\n",
      "Epoch 342/500\n",
      "81/81 [==============================] - 0s 756us/step - loss: 1.6519 - accuracy: 0.8827\n",
      "Epoch 343/500\n",
      "81/81 [==============================] - 0s 782us/step - loss: 1.4758 - accuracy: 0.8936\n",
      "Epoch 344/500\n",
      "81/81 [==============================] - 0s 789us/step - loss: 1.5137 - accuracy: 0.8917\n",
      "Epoch 345/500\n",
      "81/81 [==============================] - 0s 771us/step - loss: 1.5247 - accuracy: 0.8913\n",
      "Epoch 346/500\n",
      "81/81 [==============================] - 0s 735us/step - loss: 1.5356 - accuracy: 0.8913\n",
      "Epoch 347/500\n",
      "81/81 [==============================] - 0s 729us/step - loss: 1.5733 - accuracy: 0.8878\n",
      "Epoch 348/500\n",
      "81/81 [==============================] - 0s 746us/step - loss: 1.4792 - accuracy: 0.8920\n",
      "Epoch 349/500\n",
      "81/81 [==============================] - 0s 782us/step - loss: 1.6074 - accuracy: 0.8862\n",
      "Epoch 350/500\n",
      "81/81 [==============================] - 0s 760us/step - loss: 1.5356 - accuracy: 0.8909\n",
      "Epoch 351/500\n",
      "81/81 [==============================] - 0s 788us/step - loss: 1.6057 - accuracy: 0.8846\n",
      "Epoch 352/500\n",
      "81/81 [==============================] - 0s 762us/step - loss: 1.6225 - accuracy: 0.8792\n",
      "Epoch 353/500\n",
      "81/81 [==============================] - 0s 757us/step - loss: 1.6271 - accuracy: 0.8804\n",
      "Epoch 354/500\n",
      "81/81 [==============================] - 0s 761us/step - loss: 1.6190 - accuracy: 0.8854\n",
      "Epoch 355/500\n",
      "81/81 [==============================] - 0s 780us/step - loss: 1.5055 - accuracy: 0.8936\n",
      "Epoch 356/500\n",
      "81/81 [==============================] - 0s 767us/step - loss: 1.6019 - accuracy: 0.8823\n",
      "Epoch 357/500\n",
      "81/81 [==============================] - 0s 770us/step - loss: 1.5702 - accuracy: 0.8897\n",
      "Epoch 358/500\n",
      "81/81 [==============================] - 0s 757us/step - loss: 1.5490 - accuracy: 0.8913\n",
      "Epoch 359/500\n",
      "81/81 [==============================] - 0s 759us/step - loss: 1.4351 - accuracy: 0.8995\n",
      "Epoch 360/500\n",
      "81/81 [==============================] - 0s 918us/step - loss: 1.5228 - accuracy: 0.8741\n",
      "Epoch 361/500\n",
      "81/81 [==============================] - 0s 746us/step - loss: 1.6462 - accuracy: 0.8815\n",
      "Epoch 362/500\n",
      "81/81 [==============================] - 0s 754us/step - loss: 1.5667 - accuracy: 0.8862\n",
      "Epoch 363/500\n",
      "81/81 [==============================] - 0s 754us/step - loss: 1.5677 - accuracy: 0.8901\n",
      "Epoch 364/500\n",
      "81/81 [==============================] - 0s 743us/step - loss: 1.6074 - accuracy: 0.8866\n",
      "Epoch 365/500\n",
      "81/81 [==============================] - 0s 730us/step - loss: 1.5443 - accuracy: 0.8870\n",
      "Epoch 366/500\n",
      "81/81 [==============================] - 0s 732us/step - loss: 1.5024 - accuracy: 0.8959\n",
      "Epoch 367/500\n",
      "81/81 [==============================] - 0s 747us/step - loss: 1.6001 - accuracy: 0.8882\n",
      "Epoch 368/500\n",
      "81/81 [==============================] - 0s 763us/step - loss: 1.5073 - accuracy: 0.8913\n",
      "Epoch 369/500\n",
      "81/81 [==============================] - 0s 754us/step - loss: 1.4399 - accuracy: 0.8979\n",
      "Epoch 370/500\n",
      "81/81 [==============================] - 0s 751us/step - loss: 1.4617 - accuracy: 0.8956\n",
      "Epoch 371/500\n",
      "81/81 [==============================] - 0s 763us/step - loss: 1.4480 - accuracy: 0.8932\n",
      "Epoch 372/500\n",
      "81/81 [==============================] - 0s 767us/step - loss: 1.3622 - accuracy: 0.9002\n",
      "Epoch 373/500\n",
      "81/81 [==============================] - 0s 763us/step - loss: 1.5035 - accuracy: 0.8924\n",
      "Epoch 374/500\n",
      "81/81 [==============================] - 0s 746us/step - loss: 1.5349 - accuracy: 0.8897\n",
      "Epoch 375/500\n",
      "81/81 [==============================] - 0s 738us/step - loss: 1.5038 - accuracy: 0.8854\n",
      "Epoch 376/500\n",
      "81/81 [==============================] - 0s 737us/step - loss: 1.5515 - accuracy: 0.8885\n",
      "Epoch 377/500\n",
      "81/81 [==============================] - 0s 739us/step - loss: 1.5919 - accuracy: 0.8878\n",
      "Epoch 378/500\n",
      "81/81 [==============================] - 0s 749us/step - loss: 1.4181 - accuracy: 0.8998\n",
      "Epoch 379/500\n",
      "81/81 [==============================] - 0s 746us/step - loss: 1.6804 - accuracy: 0.8811\n",
      "Epoch 380/500\n",
      "81/81 [==============================] - 0s 734us/step - loss: 1.5634 - accuracy: 0.8889\n",
      "Epoch 381/500\n",
      "81/81 [==============================] - 0s 771us/step - loss: 1.5899 - accuracy: 0.8882\n",
      "Epoch 382/500\n",
      "81/81 [==============================] - 0s 754us/step - loss: 1.6448 - accuracy: 0.8796\n",
      "Epoch 383/500\n",
      "81/81 [==============================] - 0s 741us/step - loss: 1.5779 - accuracy: 0.8702\n",
      "Epoch 384/500\n",
      "81/81 [==============================] - 0s 745us/step - loss: 1.5549 - accuracy: 0.8882\n",
      "Epoch 385/500\n",
      "81/81 [==============================] - 0s 756us/step - loss: 1.5656 - accuracy: 0.8870\n",
      "Epoch 386/500\n",
      "81/81 [==============================] - 0s 760us/step - loss: 1.6811 - accuracy: 0.8815\n",
      "Epoch 387/500\n",
      "81/81 [==============================] - 0s 744us/step - loss: 1.4974 - accuracy: 0.8940\n",
      "Epoch 388/500\n",
      "81/81 [==============================] - 0s 747us/step - loss: 1.6473 - accuracy: 0.8835\n",
      "Epoch 389/500\n",
      "81/81 [==============================] - 0s 735us/step - loss: 1.4024 - accuracy: 0.9014\n",
      "Epoch 390/500\n",
      "81/81 [==============================] - 0s 753us/step - loss: 1.6641 - accuracy: 0.8804\n",
      "Epoch 391/500\n",
      "81/81 [==============================] - 0s 747us/step - loss: 1.4768 - accuracy: 0.8936\n",
      "Epoch 392/500\n",
      "81/81 [==============================] - 0s 760us/step - loss: 1.5248 - accuracy: 0.8940\n",
      "Epoch 393/500\n",
      "81/81 [==============================] - 0s 745us/step - loss: 1.6739 - accuracy: 0.8831\n",
      "Epoch 394/500\n",
      "81/81 [==============================] - 0s 758us/step - loss: 1.6381 - accuracy: 0.8819\n",
      "Epoch 395/500\n",
      "81/81 [==============================] - 0s 751us/step - loss: 1.5820 - accuracy: 0.8920\n",
      "Epoch 396/500\n",
      "81/81 [==============================] - 0s 741us/step - loss: 1.5399 - accuracy: 0.8920\n",
      "Epoch 397/500\n"
     ]
    },
    {
     "name": "stdout",
     "output_type": "stream",
     "text": [
      "81/81 [==============================] - 0s 742us/step - loss: 1.6970 - accuracy: 0.8835\n",
      "Epoch 398/500\n",
      "81/81 [==============================] - 0s 760us/step - loss: 1.5797 - accuracy: 0.8901\n",
      "Epoch 399/500\n",
      "81/81 [==============================] - 0s 746us/step - loss: 1.5273 - accuracy: 0.8920\n",
      "Epoch 400/500\n",
      "81/81 [==============================] - 0s 745us/step - loss: 1.5211 - accuracy: 0.8932\n",
      "Epoch 401/500\n",
      "81/81 [==============================] - 0s 772us/step - loss: 1.7341 - accuracy: 0.8800\n",
      "Epoch 402/500\n",
      "81/81 [==============================] - 0s 997us/step - loss: 1.5647 - accuracy: 0.8917\n",
      "Epoch 403/500\n",
      "81/81 [==============================] - 0s 768us/step - loss: 1.7331 - accuracy: 0.8772\n",
      "Epoch 404/500\n",
      "81/81 [==============================] - 0s 741us/step - loss: 1.6538 - accuracy: 0.8854\n",
      "Epoch 405/500\n",
      "81/81 [==============================] - 0s 742us/step - loss: 1.6796 - accuracy: 0.8839\n",
      "Epoch 406/500\n",
      "81/81 [==============================] - 0s 751us/step - loss: 1.5699 - accuracy: 0.8917\n",
      "Epoch 407/500\n",
      "81/81 [==============================] - 0s 739us/step - loss: 1.6900 - accuracy: 0.8850\n",
      "Epoch 408/500\n",
      "81/81 [==============================] - 0s 728us/step - loss: 1.5233 - accuracy: 0.8944\n",
      "Epoch 409/500\n",
      "81/81 [==============================] - 0s 738us/step - loss: 1.6618 - accuracy: 0.8854\n",
      "Epoch 410/500\n",
      "81/81 [==============================] - 0s 745us/step - loss: 1.5841 - accuracy: 0.8885\n",
      "Epoch 411/500\n",
      "81/81 [==============================] - 0s 742us/step - loss: 1.6444 - accuracy: 0.8800\n",
      "Epoch 412/500\n",
      "81/81 [==============================] - 0s 737us/step - loss: 1.4367 - accuracy: 0.8963\n",
      "Epoch 413/500\n",
      "81/81 [==============================] - 0s 744us/step - loss: 1.5229 - accuracy: 0.8920\n",
      "Epoch 414/500\n",
      "81/81 [==============================] - 0s 740us/step - loss: 1.4921 - accuracy: 0.8940\n",
      "Epoch 415/500\n",
      "81/81 [==============================] - 0s 736us/step - loss: 1.6540 - accuracy: 0.8850\n",
      "Epoch 416/500\n",
      "81/81 [==============================] - 0s 739us/step - loss: 1.5766 - accuracy: 0.8909\n",
      "Epoch 417/500\n",
      "81/81 [==============================] - 0s 742us/step - loss: 1.4951 - accuracy: 0.8975\n",
      "Epoch 418/500\n",
      "81/81 [==============================] - 0s 732us/step - loss: 1.5995 - accuracy: 0.8878\n",
      "Epoch 419/500\n",
      "81/81 [==============================] - 0s 743us/step - loss: 1.4383 - accuracy: 0.8995\n",
      "Epoch 420/500\n",
      "81/81 [==============================] - 0s 742us/step - loss: 1.5958 - accuracy: 0.8897\n",
      "Epoch 421/500\n",
      "81/81 [==============================] - 0s 729us/step - loss: 1.6174 - accuracy: 0.8866\n",
      "Epoch 422/500\n",
      "81/81 [==============================] - 0s 743us/step - loss: 1.5973 - accuracy: 0.8901\n",
      "Epoch 423/500\n",
      "81/81 [==============================] - 0s 731us/step - loss: 1.4108 - accuracy: 0.9010\n",
      "Epoch 424/500\n",
      "81/81 [==============================] - 0s 746us/step - loss: 1.6269 - accuracy: 0.8574\n",
      "Epoch 425/500\n",
      "81/81 [==============================] - 0s 744us/step - loss: 1.5912 - accuracy: 0.8761\n",
      "Epoch 426/500\n",
      "81/81 [==============================] - 0s 737us/step - loss: 1.6266 - accuracy: 0.8714\n",
      "Epoch 427/500\n",
      "81/81 [==============================] - 0s 738us/step - loss: 1.7735 - accuracy: 0.8761\n",
      "Epoch 428/500\n",
      "81/81 [==============================] - 0s 731us/step - loss: 1.4714 - accuracy: 0.8944\n",
      "Epoch 429/500\n",
      "81/81 [==============================] - 0s 739us/step - loss: 1.7264 - accuracy: 0.8784\n",
      "Epoch 430/500\n",
      "81/81 [==============================] - 0s 739us/step - loss: 1.5520 - accuracy: 0.8897\n",
      "Epoch 431/500\n",
      "81/81 [==============================] - 0s 730us/step - loss: 1.4955 - accuracy: 0.8948\n",
      "Epoch 432/500\n",
      "81/81 [==============================] - 0s 761us/step - loss: 1.4748 - accuracy: 0.8991\n",
      "Epoch 433/500\n",
      "81/81 [==============================] - 0s 752us/step - loss: 1.5874 - accuracy: 0.8893\n",
      "Epoch 434/500\n",
      "81/81 [==============================] - 0s 751us/step - loss: 1.6436 - accuracy: 0.8866\n",
      "Epoch 435/500\n",
      "81/81 [==============================] - 0s 749us/step - loss: 1.6941 - accuracy: 0.8655\n",
      "Epoch 436/500\n",
      "81/81 [==============================] - 0s 885us/step - loss: 1.4676 - accuracy: 0.8948\n",
      "Epoch 437/500\n",
      "81/81 [==============================] - 0s 742us/step - loss: 1.6264 - accuracy: 0.8846\n",
      "Epoch 438/500\n",
      "81/81 [==============================] - 0s 735us/step - loss: 1.7400 - accuracy: 0.8807\n",
      "Epoch 439/500\n",
      "81/81 [==============================] - 0s 748us/step - loss: 1.6478 - accuracy: 0.8843\n",
      "Epoch 440/500\n",
      "81/81 [==============================] - 0s 744us/step - loss: 1.4474 - accuracy: 0.8998\n",
      "Epoch 441/500\n",
      "81/81 [==============================] - 0s 743us/step - loss: 1.5161 - accuracy: 0.8948\n",
      "Epoch 442/500\n",
      "81/81 [==============================] - 0s 741us/step - loss: 1.5300 - accuracy: 0.8956\n",
      "Epoch 443/500\n",
      "81/81 [==============================] - 0s 746us/step - loss: 1.4253 - accuracy: 0.9022\n",
      "Epoch 444/500\n",
      "81/81 [==============================] - 0s 781us/step - loss: 1.5701 - accuracy: 0.8920\n",
      "Epoch 445/500\n",
      "81/81 [==============================] - 0s 796us/step - loss: 1.8222 - accuracy: 0.8737\n",
      "Epoch 446/500\n",
      "81/81 [==============================] - 0s 802us/step - loss: 1.5521 - accuracy: 0.8928\n",
      "Epoch 447/500\n",
      "81/81 [==============================] - 0s 807us/step - loss: 1.5641 - accuracy: 0.8940\n",
      "Epoch 448/500\n",
      "81/81 [==============================] - 0s 811us/step - loss: 1.6352 - accuracy: 0.8874\n",
      "Epoch 449/500\n",
      "81/81 [==============================] - 0s 802us/step - loss: 1.5862 - accuracy: 0.8917\n",
      "Epoch 450/500\n",
      "81/81 [==============================] - 0s 776us/step - loss: 1.6520 - accuracy: 0.8862\n",
      "Epoch 451/500\n",
      "81/81 [==============================] - 0s 757us/step - loss: 1.6035 - accuracy: 0.8885\n",
      "Epoch 452/500\n",
      "81/81 [==============================] - 0s 755us/step - loss: 1.5501 - accuracy: 0.8940\n",
      "Epoch 453/500\n",
      "81/81 [==============================] - 0s 737us/step - loss: 1.6024 - accuracy: 0.8882\n",
      "Epoch 454/500\n",
      "81/81 [==============================] - 0s 740us/step - loss: 1.4916 - accuracy: 0.8959\n",
      "Epoch 455/500\n",
      "81/81 [==============================] - 0s 748us/step - loss: 1.5073 - accuracy: 0.8932\n",
      "Epoch 456/500\n",
      "81/81 [==============================] - 0s 750us/step - loss: 1.8165 - accuracy: 0.8733\n",
      "Epoch 457/500\n",
      "81/81 [==============================] - 0s 733us/step - loss: 1.5511 - accuracy: 0.8928\n",
      "Epoch 458/500\n",
      "81/81 [==============================] - 0s 760us/step - loss: 1.3962 - accuracy: 0.9053\n",
      "Epoch 459/500\n",
      "81/81 [==============================] - 0s 741us/step - loss: 1.5349 - accuracy: 0.8936\n",
      "Epoch 460/500\n",
      "81/81 [==============================] - 0s 735us/step - loss: 1.6169 - accuracy: 0.8878\n",
      "Epoch 461/500\n",
      "81/81 [==============================] - 0s 742us/step - loss: 1.4870 - accuracy: 0.8967\n",
      "Epoch 462/500\n",
      "81/81 [==============================] - 0s 744us/step - loss: 1.6270 - accuracy: 0.8897\n",
      "Epoch 463/500\n",
      "81/81 [==============================] - 0s 744us/step - loss: 1.5402 - accuracy: 0.8956\n",
      "Epoch 464/500\n",
      "81/81 [==============================] - 0s 740us/step - loss: 1.5585 - accuracy: 0.8897\n",
      "Epoch 465/500\n",
      "81/81 [==============================] - 0s 746us/step - loss: 1.7041 - accuracy: 0.8823\n",
      "Epoch 466/500\n",
      "81/81 [==============================] - 0s 744us/step - loss: 1.5427 - accuracy: 0.8952\n",
      "Epoch 467/500\n",
      "81/81 [==============================] - 0s 753us/step - loss: 1.5472 - accuracy: 0.8948\n",
      "Epoch 468/500\n",
      "81/81 [==============================] - 0s 742us/step - loss: 1.6509 - accuracy: 0.8804\n",
      "Epoch 469/500\n",
      "81/81 [==============================] - 0s 744us/step - loss: 1.6113 - accuracy: 0.8835\n",
      "Epoch 470/500\n",
      "81/81 [==============================] - 0s 753us/step - loss: 1.6029 - accuracy: 0.8858\n",
      "Epoch 471/500\n",
      "81/81 [==============================] - 0s 745us/step - loss: 1.6659 - accuracy: 0.8862\n",
      "Epoch 472/500\n",
      "81/81 [==============================] - 0s 746us/step - loss: 1.6521 - accuracy: 0.8850\n",
      "Epoch 473/500\n",
      "81/81 [==============================] - 0s 747us/step - loss: 1.5248 - accuracy: 0.8897\n",
      "Epoch 474/500\n",
      "81/81 [==============================] - 0s 743us/step - loss: 1.4727 - accuracy: 0.8995\n",
      "Epoch 475/500\n",
      "81/81 [==============================] - 0s 744us/step - loss: 1.4309 - accuracy: 0.9034\n",
      "Epoch 476/500\n"
     ]
    },
    {
     "name": "stdout",
     "output_type": "stream",
     "text": [
      "81/81 [==============================] - 0s 754us/step - loss: 1.6103 - accuracy: 0.8878\n",
      "Epoch 477/500\n",
      "81/81 [==============================] - 0s 759us/step - loss: 1.5544 - accuracy: 0.8936\n",
      "Epoch 478/500\n",
      "81/81 [==============================] - 0s 737us/step - loss: 1.6656 - accuracy: 0.8854\n",
      "Epoch 479/500\n",
      "81/81 [==============================] - 0s 745us/step - loss: 1.5147 - accuracy: 0.8971\n",
      "Epoch 480/500\n",
      "81/81 [==============================] - 0s 747us/step - loss: 1.6018 - accuracy: 0.8893\n",
      "Epoch 481/500\n",
      "81/81 [==============================] - 0s 732us/step - loss: 1.5192 - accuracy: 0.8882\n",
      "Epoch 482/500\n",
      "81/81 [==============================] - 0s 768us/step - loss: 1.6519 - accuracy: 0.8858\n",
      "Epoch 483/500\n",
      "81/81 [==============================] - 0s 741us/step - loss: 1.6098 - accuracy: 0.8889\n",
      "Epoch 484/500\n",
      "81/81 [==============================] - 0s 740us/step - loss: 1.5718 - accuracy: 0.8889\n",
      "Epoch 485/500\n",
      "81/81 [==============================] - 0s 735us/step - loss: 1.5062 - accuracy: 0.8959\n",
      "Epoch 486/500\n",
      "81/81 [==============================] - 0s 738us/step - loss: 1.5565 - accuracy: 0.8932\n",
      "Epoch 487/500\n",
      "81/81 [==============================] - 0s 735us/step - loss: 1.6494 - accuracy: 0.8850\n",
      "Epoch 488/500\n",
      "81/81 [==============================] - 0s 760us/step - loss: 1.6064 - accuracy: 0.8885\n",
      "Epoch 489/500\n",
      "81/81 [==============================] - 0s 737us/step - loss: 1.6229 - accuracy: 0.8885\n",
      "Epoch 490/500\n",
      "81/81 [==============================] - 0s 785us/step - loss: 1.6802 - accuracy: 0.8843\n",
      "Epoch 491/500\n",
      "81/81 [==============================] - 0s 780us/step - loss: 1.6226 - accuracy: 0.8889\n",
      "Epoch 492/500\n",
      "81/81 [==============================] - 0s 788us/step - loss: 1.5899 - accuracy: 0.8920\n",
      "Epoch 493/500\n",
      "81/81 [==============================] - 0s 779us/step - loss: 1.6073 - accuracy: 0.8897\n",
      "Epoch 494/500\n",
      "81/81 [==============================] - 0s 796us/step - loss: 1.4738 - accuracy: 0.8975\n",
      "Epoch 495/500\n",
      "81/81 [==============================] - 0s 761us/step - loss: 1.6257 - accuracy: 0.8889\n",
      "Epoch 496/500\n",
      "81/81 [==============================] - 0s 743us/step - loss: 1.5190 - accuracy: 0.8944\n",
      "Epoch 497/500\n",
      "81/81 [==============================] - 0s 732us/step - loss: 1.4750 - accuracy: 0.8944\n",
      "Epoch 498/500\n",
      "81/81 [==============================] - 0s 743us/step - loss: 1.5617 - accuracy: 0.8936\n",
      "Epoch 499/500\n",
      "81/81 [==============================] - 0s 736us/step - loss: 1.6133 - accuracy: 0.8897\n",
      "Epoch 500/500\n",
      "81/81 [==============================] - 0s 740us/step - loss: 1.7201 - accuracy: 0.8811\n"
     ]
    },
    {
     "data": {
      "text/plain": [
       "[<matplotlib.lines.Line2D at 0x7fb3ad14cd30>]"
      ]
     },
     "execution_count": 29,
     "metadata": {},
     "output_type": "execute_result"
    },
    {
     "data": {
      "image/png": "[encoded data removed]",
      "text/plain": [
       "<Figure size 432x288 with 1 Axes>"
      ]
     },
     "metadata": {
      "needs_background": "light"
     },
     "output_type": "display_data"
    }
   ],
   "source": [
    "history = model.fit(X_train,Y_train,epochs=500)\n",
    "plt.plot(history.history[\"accuracy\"])"
   ]
  },
  {
   "cell_type": "code",
   "execution_count": 30,
   "metadata": {},
   "outputs": [
    {
     "data": {
      "text/plain": [
       "[<matplotlib.lines.Line2D at 0x7fb7e8b0a2e0>]"
      ]
     },
     "execution_count": 30,
     "metadata": {},
     "output_type": "execute_result"
    },
    {
     "data": {
      "image/png": "[encoded data removed]",
      "text/plain": [
       "<Figure size 432x288 with 1 Axes>"
      ]
     },
     "metadata": {
      "needs_background": "light"
     },
     "output_type": "display_data"
    }
   ],
   "source": [
    "plt.plot(history.history[\"loss\"])"
   ]
  },
  {
   "cell_type": "code",
   "execution_count": 30,
   "metadata": {},
   "outputs": [
    {
     "name": "stdout",
     "output_type": "stream",
     "text": [
      "16/16 [==============================] - 0s 951us/step - loss: 0.2261 - accuracy: 0.8838\n"
     ]
    },
    {
     "data": {
      "text/plain": [
       "[0.22614538669586182, 0.8837675452232361]"
      ]
     },
     "execution_count": 30,
     "metadata": {},
     "output_type": "execute_result"
    }
   ],
   "source": [
    "model.evaluate(X_test,Y_test)"
   ]
  },
  {
   "cell_type": "markdown",
   "metadata": {},
   "source": [
    "**Make Improvement**"
   ]
  },
  {
   "cell_type": "markdown",
   "metadata": {},
   "source": [
    "**Feature Engineering**<br>\n",
    "Intuition tells me that the ratio of **loan/income** is also a key factor deciding whether default will occur. Also, there might exist some **non-linear relationship** between independent variables and the target variable (default)."
   ]
  },
  {
   "cell_type": "code",
   "execution_count": 31,
   "metadata": {},
   "outputs": [
    {
     "data": {
      "text/html": [
       "<div>\n",
       "<style scoped>\n",
       "    .dataframe tbody tr th:only-of-type {\n",
       "        vertical-align: middle;\n",
       "    }\n",
       "\n",
       "    .dataframe tbody tr th {\n",
       "        vertical-align: top;\n",
       "    }\n",
       "\n",
       "    .dataframe thead th {\n",
       "        text-align: right;\n",
       "    }\n",
       "</style>\n",
       "<table border=\"1\" class=\"dataframe\">\n",
       "  <thead>\n",
       "    <tr style=\"text-align: right;\">\n",
       "      <th></th>\n",
       "      <th>default</th>\n",
       "      <th>age</th>\n",
       "      <th>income</th>\n",
       "      <th>loan</th>\n",
       "    </tr>\n",
       "  </thead>\n",
       "  <tbody>\n",
       "    <tr>\n",
       "      <th>0</th>\n",
       "      <td>0</td>\n",
       "      <td>59.017015</td>\n",
       "      <td>66155.92510</td>\n",
       "      <td>8106.532131</td>\n",
       "    </tr>\n",
       "    <tr>\n",
       "      <th>1</th>\n",
       "      <td>0</td>\n",
       "      <td>48.117153</td>\n",
       "      <td>34415.15397</td>\n",
       "      <td>6564.745018</td>\n",
       "    </tr>\n",
       "    <tr>\n",
       "      <th>2</th>\n",
       "      <td>0</td>\n",
       "      <td>63.108049</td>\n",
       "      <td>57317.17006</td>\n",
       "      <td>8020.953296</td>\n",
       "    </tr>\n",
       "    <tr>\n",
       "      <th>3</th>\n",
       "      <td>0</td>\n",
       "      <td>45.751972</td>\n",
       "      <td>42709.53420</td>\n",
       "      <td>6103.642260</td>\n",
       "    </tr>\n",
       "    <tr>\n",
       "      <th>4</th>\n",
       "      <td>1</td>\n",
       "      <td>18.584336</td>\n",
       "      <td>66952.68885</td>\n",
       "      <td>8770.099235</td>\n",
       "    </tr>\n",
       "  </tbody>\n",
       "</table>\n",
       "</div>"
      ],
      "text/plain": [
       "   default        age       income         loan\n",
       "0        0  59.017015  66155.92510  8106.532131\n",
       "1        0  48.117153  34415.15397  6564.745018\n",
       "2        0  63.108049  57317.17006  8020.953296\n",
       "3        0  45.751972  42709.53420  6103.642260\n",
       "4        1  18.584336  66952.68885  8770.099235"
      ]
     },
     "execution_count": 31,
     "metadata": {},
     "output_type": "execute_result"
    }
   ],
   "source": [
    "df.head()"
   ]
  },
  {
   "cell_type": "code",
   "execution_count": 32,
   "metadata": {},
   "outputs": [],
   "source": [
    "def nonlinear_design(df):\n",
    "    X = df.copy()\n",
    "    # Compute nonlinear transformations for each quantitative feature\n",
    "    for col in X.columns:\n",
    "        if col=='default':\n",
    "            continue\n",
    "        else:\n",
    "            X[f'{col}^2'] = X[f'{col}'] ** 2\n",
    "            X[f'{col}^3'] = X[f'{col}'] ** 3\n",
    "            X[f'sqrt({col})'] = np.sqrt(X[f'{col}'])\n",
    "    return X"
   ]
  },
  {
   "cell_type": "code",
   "execution_count": 33,
   "metadata": {},
   "outputs": [
    {
     "data": {
      "text/html": [
       "<div>\n",
       "<style scoped>\n",
       "    .dataframe tbody tr th:only-of-type {\n",
       "        vertical-align: middle;\n",
       "    }\n",
       "\n",
       "    .dataframe tbody tr th {\n",
       "        vertical-align: top;\n",
       "    }\n",
       "\n",
       "    .dataframe thead th {\n",
       "        text-align: right;\n",
       "    }\n",
       "</style>\n",
       "<table border=\"1\" class=\"dataframe\">\n",
       "  <thead>\n",
       "    <tr style=\"text-align: right;\">\n",
       "      <th></th>\n",
       "      <th>default</th>\n",
       "      <th>age</th>\n",
       "      <th>income</th>\n",
       "      <th>loan</th>\n",
       "      <th>age^2</th>\n",
       "      <th>age^3</th>\n",
       "      <th>sqrt(age)</th>\n",
       "      <th>income^2</th>\n",
       "      <th>income^3</th>\n",
       "      <th>sqrt(income)</th>\n",
       "      <th>loan^2</th>\n",
       "      <th>loan^3</th>\n",
       "      <th>sqrt(loan)</th>\n",
       "    </tr>\n",
       "  </thead>\n",
       "  <tbody>\n",
       "    <tr>\n",
       "      <th>0</th>\n",
       "      <td>0</td>\n",
       "      <td>59.017015</td>\n",
       "      <td>66155.92510</td>\n",
       "      <td>8106.532131</td>\n",
       "      <td>3483.008068</td>\n",
       "      <td>205556.739625</td>\n",
       "      <td>7.682253</td>\n",
       "      <td>4.376606e+09</td>\n",
       "      <td>2.895384e+14</td>\n",
       "      <td>257.207941</td>\n",
       "      <td>6.571586e+07</td>\n",
       "      <td>5.327278e+11</td>\n",
       "      <td>90.036282</td>\n",
       "    </tr>\n",
       "    <tr>\n",
       "      <th>1</th>\n",
       "      <td>0</td>\n",
       "      <td>48.117153</td>\n",
       "      <td>34415.15397</td>\n",
       "      <td>6564.745018</td>\n",
       "      <td>2315.260422</td>\n",
       "      <td>111403.740213</td>\n",
       "      <td>6.936653</td>\n",
       "      <td>1.184403e+09</td>\n",
       "      <td>4.076141e+13</td>\n",
       "      <td>185.513218</td>\n",
       "      <td>4.309588e+07</td>\n",
       "      <td>2.829134e+11</td>\n",
       "      <td>81.023114</td>\n",
       "    </tr>\n",
       "    <tr>\n",
       "      <th>2</th>\n",
       "      <td>0</td>\n",
       "      <td>63.108049</td>\n",
       "      <td>57317.17006</td>\n",
       "      <td>8020.953296</td>\n",
       "      <td>3982.625910</td>\n",
       "      <td>251335.753056</td>\n",
       "      <td>7.944057</td>\n",
       "      <td>3.285258e+09</td>\n",
       "      <td>1.883017e+14</td>\n",
       "      <td>239.410046</td>\n",
       "      <td>6.433569e+07</td>\n",
       "      <td>5.160336e+11</td>\n",
       "      <td>89.559775</td>\n",
       "    </tr>\n",
       "    <tr>\n",
       "      <th>3</th>\n",
       "      <td>0</td>\n",
       "      <td>45.751972</td>\n",
       "      <td>42709.53420</td>\n",
       "      <td>6103.642260</td>\n",
       "      <td>2093.242974</td>\n",
       "      <td>95769.994664</td>\n",
       "      <td>6.764020</td>\n",
       "      <td>1.824104e+09</td>\n",
       "      <td>7.790665e+13</td>\n",
       "      <td>206.662852</td>\n",
       "      <td>3.725445e+07</td>\n",
       "      <td>2.273878e+11</td>\n",
       "      <td>78.125810</td>\n",
       "    </tr>\n",
       "    <tr>\n",
       "      <th>4</th>\n",
       "      <td>1</td>\n",
       "      <td>18.584336</td>\n",
       "      <td>66952.68885</td>\n",
       "      <td>8770.099235</td>\n",
       "      <td>345.377542</td>\n",
       "      <td>6418.612262</td>\n",
       "      <td>4.310955</td>\n",
       "      <td>4.482663e+09</td>\n",
       "      <td>3.001263e+14</td>\n",
       "      <td>258.752177</td>\n",
       "      <td>7.691464e+07</td>\n",
       "      <td>6.745490e+11</td>\n",
       "      <td>93.648808</td>\n",
       "    </tr>\n",
       "  </tbody>\n",
       "</table>\n",
       "</div>"
      ],
      "text/plain": [
       "   default        age       income         loan        age^2          age^3  \\\n",
       "0        0  59.017015  66155.92510  8106.532131  3483.008068  205556.739625   \n",
       "1        0  48.117153  34415.15397  6564.745018  2315.260422  111403.740213   \n",
       "2        0  63.108049  57317.17006  8020.953296  3982.625910  251335.753056   \n",
       "3        0  45.751972  42709.53420  6103.642260  2093.242974   95769.994664   \n",
       "4        1  18.584336  66952.68885  8770.099235   345.377542    6418.612262   \n",
       "\n",
       "   sqrt(age)      income^2      income^3  sqrt(income)        loan^2  \\\n",
       "0   7.682253  4.376606e+09  2.895384e+14    257.207941  6.571586e+07   \n",
       "1   6.936653  1.184403e+09  4.076141e+13    185.513218  4.309588e+07   \n",
       "2   7.944057  3.285258e+09  1.883017e+14    239.410046  6.433569e+07   \n",
       "3   6.764020  1.824104e+09  7.790665e+13    206.662852  3.725445e+07   \n",
       "4   4.310955  4.482663e+09  3.001263e+14    258.752177  7.691464e+07   \n",
       "\n",
       "         loan^3  sqrt(loan)  \n",
       "0  5.327278e+11   90.036282  \n",
       "1  2.829134e+11   81.023114  \n",
       "2  5.160336e+11   89.559775  \n",
       "3  2.273878e+11   78.125810  \n",
       "4  6.745490e+11   93.648808  "
      ]
     },
     "execution_count": 33,
     "metadata": {},
     "output_type": "execute_result"
    }
   ],
   "source": [
    "df_new=nonlinear_design(df)\n",
    "df_new.head()"
   ]
  },
  {
   "cell_type": "code",
   "execution_count": 34,
   "metadata": {},
   "outputs": [],
   "source": [
    "df_new['ratio']=df_new['loan']/df_new['income']"
   ]
  },
  {
   "cell_type": "code",
   "execution_count": 35,
   "metadata": {},
   "outputs": [
    {
     "data": {
      "text/html": [
       "<div>\n",
       "<style scoped>\n",
       "    .dataframe tbody tr th:only-of-type {\n",
       "        vertical-align: middle;\n",
       "    }\n",
       "\n",
       "    .dataframe tbody tr th {\n",
       "        vertical-align: top;\n",
       "    }\n",
       "\n",
       "    .dataframe thead th {\n",
       "        text-align: right;\n",
       "    }\n",
       "</style>\n",
       "<table border=\"1\" class=\"dataframe\">\n",
       "  <thead>\n",
       "    <tr style=\"text-align: right;\">\n",
       "      <th></th>\n",
       "      <th>default</th>\n",
       "      <th>age</th>\n",
       "      <th>income</th>\n",
       "      <th>loan</th>\n",
       "      <th>age^2</th>\n",
       "      <th>age^3</th>\n",
       "      <th>sqrt(age)</th>\n",
       "      <th>income^2</th>\n",
       "      <th>income^3</th>\n",
       "      <th>sqrt(income)</th>\n",
       "      <th>loan^2</th>\n",
       "      <th>loan^3</th>\n",
       "      <th>sqrt(loan)</th>\n",
       "      <th>ratio</th>\n",
       "    </tr>\n",
       "  </thead>\n",
       "  <tbody>\n",
       "    <tr>\n",
       "      <th>0</th>\n",
       "      <td>0</td>\n",
       "      <td>59.017015</td>\n",
       "      <td>66155.92510</td>\n",
       "      <td>8106.532131</td>\n",
       "      <td>3483.008068</td>\n",
       "      <td>205556.739625</td>\n",
       "      <td>7.682253</td>\n",
       "      <td>4.376606e+09</td>\n",
       "      <td>2.895384e+14</td>\n",
       "      <td>257.207941</td>\n",
       "      <td>6.571586e+07</td>\n",
       "      <td>5.327278e+11</td>\n",
       "      <td>90.036282</td>\n",
       "      <td>0.122537</td>\n",
       "    </tr>\n",
       "    <tr>\n",
       "      <th>1</th>\n",
       "      <td>0</td>\n",
       "      <td>48.117153</td>\n",
       "      <td>34415.15397</td>\n",
       "      <td>6564.745018</td>\n",
       "      <td>2315.260422</td>\n",
       "      <td>111403.740213</td>\n",
       "      <td>6.936653</td>\n",
       "      <td>1.184403e+09</td>\n",
       "      <td>4.076141e+13</td>\n",
       "      <td>185.513218</td>\n",
       "      <td>4.309588e+07</td>\n",
       "      <td>2.829134e+11</td>\n",
       "      <td>81.023114</td>\n",
       "      <td>0.190752</td>\n",
       "    </tr>\n",
       "    <tr>\n",
       "      <th>2</th>\n",
       "      <td>0</td>\n",
       "      <td>63.108049</td>\n",
       "      <td>57317.17006</td>\n",
       "      <td>8020.953296</td>\n",
       "      <td>3982.625910</td>\n",
       "      <td>251335.753056</td>\n",
       "      <td>7.944057</td>\n",
       "      <td>3.285258e+09</td>\n",
       "      <td>1.883017e+14</td>\n",
       "      <td>239.410046</td>\n",
       "      <td>6.433569e+07</td>\n",
       "      <td>5.160336e+11</td>\n",
       "      <td>89.559775</td>\n",
       "      <td>0.139940</td>\n",
       "    </tr>\n",
       "    <tr>\n",
       "      <th>3</th>\n",
       "      <td>0</td>\n",
       "      <td>45.751972</td>\n",
       "      <td>42709.53420</td>\n",
       "      <td>6103.642260</td>\n",
       "      <td>2093.242974</td>\n",
       "      <td>95769.994664</td>\n",
       "      <td>6.764020</td>\n",
       "      <td>1.824104e+09</td>\n",
       "      <td>7.790665e+13</td>\n",
       "      <td>206.662852</td>\n",
       "      <td>3.725445e+07</td>\n",
       "      <td>2.273878e+11</td>\n",
       "      <td>78.125810</td>\n",
       "      <td>0.142911</td>\n",
       "    </tr>\n",
       "    <tr>\n",
       "      <th>4</th>\n",
       "      <td>1</td>\n",
       "      <td>18.584336</td>\n",
       "      <td>66952.68885</td>\n",
       "      <td>8770.099235</td>\n",
       "      <td>345.377542</td>\n",
       "      <td>6418.612262</td>\n",
       "      <td>4.310955</td>\n",
       "      <td>4.482663e+09</td>\n",
       "      <td>3.001263e+14</td>\n",
       "      <td>258.752177</td>\n",
       "      <td>7.691464e+07</td>\n",
       "      <td>6.745490e+11</td>\n",
       "      <td>93.648808</td>\n",
       "      <td>0.130989</td>\n",
       "    </tr>\n",
       "  </tbody>\n",
       "</table>\n",
       "</div>"
      ],
      "text/plain": [
       "   default        age       income         loan        age^2          age^3  \\\n",
       "0        0  59.017015  66155.92510  8106.532131  3483.008068  205556.739625   \n",
       "1        0  48.117153  34415.15397  6564.745018  2315.260422  111403.740213   \n",
       "2        0  63.108049  57317.17006  8020.953296  3982.625910  251335.753056   \n",
       "3        0  45.751972  42709.53420  6103.642260  2093.242974   95769.994664   \n",
       "4        1  18.584336  66952.68885  8770.099235   345.377542    6418.612262   \n",
       "\n",
       "   sqrt(age)      income^2      income^3  sqrt(income)        loan^2  \\\n",
       "0   7.682253  4.376606e+09  2.895384e+14    257.207941  6.571586e+07   \n",
       "1   6.936653  1.184403e+09  4.076141e+13    185.513218  4.309588e+07   \n",
       "2   7.944057  3.285258e+09  1.883017e+14    239.410046  6.433569e+07   \n",
       "3   6.764020  1.824104e+09  7.790665e+13    206.662852  3.725445e+07   \n",
       "4   4.310955  4.482663e+09  3.001263e+14    258.752177  7.691464e+07   \n",
       "\n",
       "         loan^3  sqrt(loan)     ratio  \n",
       "0  5.327278e+11   90.036282  0.122537  \n",
       "1  2.829134e+11   81.023114  0.190752  \n",
       "2  5.160336e+11   89.559775  0.139940  \n",
       "3  2.273878e+11   78.125810  0.142911  \n",
       "4  6.745490e+11   93.648808  0.130989  "
      ]
     },
     "execution_count": 35,
     "metadata": {},
     "output_type": "execute_result"
    }
   ],
   "source": [
    "df_new.head()"
   ]
  },
  {
   "cell_type": "code",
   "execution_count": 36,
   "metadata": {},
   "outputs": [],
   "source": [
    "X=df_new.drop(columns='default')\n",
    "Y=df_new['default']\n",
    "from sklearn.model_selection import train_test_split\n",
    "X_train,X_test,Y_train,Y_test=train_test_split(X,Y,random_state=1)"
   ]
  },
  {
   "cell_type": "code",
   "execution_count": 37,
   "metadata": {},
   "outputs": [],
   "source": [
    "from imblearn.over_sampling import SMOTE\n",
    "X_train,Y_train=SMOTE(random_state=1).fit_resample(X_train,Y_train)"
   ]
  },
  {
   "cell_type": "code",
   "execution_count": 38,
   "metadata": {},
   "outputs": [
    {
     "name": "stdout",
     "output_type": "stream",
     "text": [
      "[20:26:51] WARNING: /opt/concourse/worker/volumes/live/7a2b9f41-3287-451b-6691-43e9a6c0910f/volume/xgboost-split_1619728204606/work/src/learner.cc:1061: Starting in XGBoost 1.3.0, the default evaluation metric used with the objective 'binary:logistic' was changed from 'error' to 'logloss'. Explicitly set eval_metric if you'd like to restore the old behavior.\n",
      "[[1283    0]\n",
      " [   0 1283]]\n",
      "accuracy of train is  1.0\n",
      "precision of train is  1.0\n",
      "recall of train is  1.0\n",
      "[[428   0]\n",
      " [  1  70]]\n",
      "accuracy of test is  0.9979959919839679\n",
      "precision of test is  1.0\n",
      "recall of test is  0.9859154929577465\n"
     ]
    },
    {
     "name": "stderr",
     "output_type": "stream",
     "text": [
      "/Users/apple/opt/anaconda3/lib/python3.8/site-packages/xgboost/sklearn.py:888: UserWarning: The use of label encoder in XGBClassifier is deprecated and will be removed in a future release. To remove this warning, do the following: 1) Pass option use_label_encoder=False when constructing XGBClassifier object; and 2) Encode your labels (y) as integers starting with 0, i.e. 0, 1, 2, ..., [num_class - 1].\n",
      "  warnings.warn(label_encoder_deprecation_msg, UserWarning)\n",
      "/Users/apple/opt/anaconda3/lib/python3.8/site-packages/xgboost/data.py:192: FutureWarning: pandas.Int64Index is deprecated and will be removed from pandas in a future version. Use pandas.Index with the appropriate dtype instead.\n",
      "  from pandas import MultiIndex, Int64Index\n",
      "/Users/apple/opt/anaconda3/lib/python3.8/site-packages/xgboost/data.py:192: FutureWarning: pandas.Int64Index is deprecated and will be removed from pandas in a future version. Use pandas.Index with the appropriate dtype instead.\n",
      "  from pandas import MultiIndex, Int64Index\n"
     ]
    }
   ],
   "source": [
    "#XGBoost\n",
    "import xgboost as xgb\n",
    "model = xgb.XGBClassifier(random_state=1)\n",
    "model.fit(X_train,Y_train)\n",
    "\n",
    "prediction_result(model)"
   ]
  },
  {
   "cell_type": "code",
   "execution_count": 39,
   "metadata": {},
   "outputs": [],
   "source": [
    "from autogluon.tabular import TabularDataset,TabularPredictor"
   ]
  },
  {
   "cell_type": "code",
   "execution_count": 40,
   "metadata": {},
   "outputs": [],
   "source": [
    "rows, cols = df_new.shape\n",
    "split_index = int(rows * 0.75)\n",
    "df_train=df_new.iloc[0: split_index, :]\n",
    "df_test= df_new.iloc[split_index:, :]"
   ]
  },
  {
   "cell_type": "code",
   "execution_count": 41,
   "metadata": {},
   "outputs": [],
   "source": [
    "X_test=df_test.drop(columns='default')\n",
    "Y_test=df_test.iloc[:,0]\n",
    "X_train=df_train.drop(columns='default')\n",
    "Y_train=df_train.iloc[:,0]"
   ]
  },
  {
   "cell_type": "code",
   "execution_count": 42,
   "metadata": {},
   "outputs": [
    {
     "name": "stderr",
     "output_type": "stream",
     "text": [
      "No path specified. Models will be saved in: \"AutogluonModels/ag-20221015_123144/\"\n",
      "Beginning AutoGluon training ...\n",
      "AutoGluon will save models to \"AutogluonModels/ag-20221015_123144/\"\n",
      "AutoGluon Version:  0.5.2\n",
      "Python Version:     3.8.5\n",
      "Operating System:   Darwin\n",
      "Train Data Rows:    1495\n",
      "Train Data Columns: 13\n",
      "Label Column: default\n",
      "Preprocessing data ...\n",
      "AutoGluon infers your prediction problem is: 'binary' (because only two unique label-values observed).\n",
      "\t2 unique label values:  [0, 1]\n",
      "\tIf 'binary' is not the correct problem_type, please manually specify the problem_type parameter during predictor init (You may specify problem_type as one of: ['binary', 'multiclass', 'regression'])\n",
      "Selected class <--> label mapping:  class 1 = 1, class 0 = 0\n",
      "Using Feature Generators to preprocess the data ...\n",
      "Fitting AutoMLPipelineFeatureGenerator...\n",
      "\tAvailable Memory:                    5682.74 MB\n",
      "\tTrain Data (Original)  Memory Usage: 0.16 MB (0.0% of available memory)\n",
      "\tInferring data type of each feature based on column values. Set feature_metadata_in to manually specify special dtypes of the features.\n",
      "\tStage 1 Generators:\n",
      "\t\tFitting AsTypeFeatureGenerator...\n",
      "\tStage 2 Generators:\n",
      "\t\tFitting FillNaFeatureGenerator...\n",
      "\tStage 3 Generators:\n",
      "\t\tFitting IdentityFeatureGenerator...\n",
      "\tStage 4 Generators:\n",
      "\t\tFitting DropUniqueFeatureGenerator...\n",
      "\tTypes of features in original data (raw dtype, special dtypes):\n",
      "\t\t('float', []) : 13 | ['age', 'income', 'loan', 'age^2', 'age^3', ...]\n",
      "\tTypes of features in processed data (raw dtype, special dtypes):\n",
      "\t\t('float', []) : 13 | ['age', 'income', 'loan', 'age^2', 'age^3', ...]\n",
      "\t0.0s = Fit runtime\n",
      "\t13 features in original data used to generate 13 features in processed data.\n",
      "\tTrain Data (Processed) Memory Usage: 0.16 MB (0.0% of available memory)\n",
      "Data preprocessing and feature engineering runtime = 0.05s ...\n",
      "AutoGluon will gauge predictive performance using evaluation metric: 'accuracy'\n",
      "\tTo change this, specify the eval_metric parameter of Predictor()\n",
      "Automatically generating train/validation split with holdout_frac=0.2, Train Rows: 1196, Val Rows: 299\n",
      "Fitting 13 L1 models ...\n",
      "Fitting model: KNeighborsUnif ...\n",
      "\t0.8462\t = Validation score   (accuracy)\n",
      "\t0.01s\t = Training   runtime\n",
      "\t0.03s\t = Validation runtime\n",
      "Fitting model: KNeighborsDist ...\n",
      "\t0.8361\t = Validation score   (accuracy)\n",
      "\t0.01s\t = Training   runtime\n",
      "\t0.0s\t = Validation runtime\n",
      "Fitting model: LightGBMXT ...\n",
      "\tWarning: Exception caused LightGBMXT to fail during training (ImportError)... Skipping this model.\n",
      "\t\t`import lightgbm` failed. If you are using Mac OSX, Please try 'brew install libomp'. Detailed info: dlopen(/Users/apple/opt/anaconda3/lib/python3.8/site-packages/lightgbm/lib_lightgbm.so, 0x0006): Library not loaded: '/usr/local/opt/libomp/lib/libomp.dylib'\n",
      "  Referenced from: '/Users/apple/opt/anaconda3/lib/python3.8/site-packages/lightgbm/lib_lightgbm.so'\n",
      "  Reason: tried: '/usr/local/opt/libomp/lib/libomp.dylib' (no such file), '/usr/local/lib/libomp.dylib' (no such file), '/usr/lib/libomp.dylib' (no such file)\n",
      "Fitting model: LightGBM ...\n",
      "\tWarning: Exception caused LightGBM to fail during training (ImportError)... Skipping this model.\n",
      "\t\t`import lightgbm` failed. If you are using Mac OSX, Please try 'brew install libomp'. Detailed info: dlopen(/Users/apple/opt/anaconda3/lib/python3.8/site-packages/lightgbm/lib_lightgbm.so, 0x0006): Library not loaded: '/usr/local/opt/libomp/lib/libomp.dylib'\n",
      "  Referenced from: '/Users/apple/opt/anaconda3/lib/python3.8/site-packages/lightgbm/lib_lightgbm.so'\n",
      "  Reason: tried: '/usr/local/opt/libomp/lib/libomp.dylib' (no such file), '/usr/local/lib/libomp.dylib' (no such file), '/usr/lib/libomp.dylib' (no such file)\n",
      "Fitting model: RandomForestGini ...\n",
      "\t1.0\t = Validation score   (accuracy)\n",
      "\t0.38s\t = Training   runtime\n",
      "\t0.04s\t = Validation runtime\n",
      "Fitting model: RandomForestEntr ...\n",
      "\t1.0\t = Validation score   (accuracy)\n",
      "\t0.39s\t = Training   runtime\n",
      "\t0.07s\t = Validation runtime\n",
      "Fitting model: CatBoost ...\n",
      "\t0.9933\t = Validation score   (accuracy)\n",
      "\t0.61s\t = Training   runtime\n",
      "\t0.0s\t = Validation runtime\n",
      "Fitting model: ExtraTreesGini ...\n",
      "\t0.99\t = Validation score   (accuracy)\n",
      "\t0.35s\t = Training   runtime\n",
      "\t0.04s\t = Validation runtime\n",
      "Fitting model: ExtraTreesEntr ...\n",
      "\t0.99\t = Validation score   (accuracy)\n",
      "\t0.37s\t = Training   runtime\n",
      "\t0.04s\t = Validation runtime\n",
      "Fitting model: NeuralNetFastAI ...\n",
      "No improvement since epoch 8: early stopping\n",
      "\t0.9933\t = Validation score   (accuracy)\n",
      "\t2.57s\t = Training   runtime\n",
      "\t0.02s\t = Validation runtime\n",
      "Fitting model: XGBoost ...\n",
      "\t0.9933\t = Validation score   (accuracy)\n",
      "\t0.09s\t = Training   runtime\n",
      "\t0.0s\t = Validation runtime\n",
      "Fitting model: NeuralNetTorch ...\n",
      "\t0.9967\t = Validation score   (accuracy)\n",
      "\t1.7s\t = Training   runtime\n",
      "\t0.01s\t = Validation runtime\n",
      "Fitting model: LightGBMLarge ...\n",
      "\tWarning: Exception caused LightGBMLarge to fail during training (ImportError)... Skipping this model.\n",
      "\t\t`import lightgbm` failed. If you are using Mac OSX, Please try 'brew install libomp'. Detailed info: dlopen(/Users/apple/opt/anaconda3/lib/python3.8/site-packages/lightgbm/lib_lightgbm.so, 0x0006): Library not loaded: '/usr/local/opt/libomp/lib/libomp.dylib'\n",
      "  Referenced from: '/Users/apple/opt/anaconda3/lib/python3.8/site-packages/lightgbm/lib_lightgbm.so'\n",
      "  Reason: tried: '/usr/local/opt/libomp/lib/libomp.dylib' (no such file), '/usr/local/lib/libomp.dylib' (no such file), '/usr/lib/libomp.dylib' (no such file)\n",
      "Fitting model: WeightedEnsemble_L2 ...\n",
      "\t1.0\t = Validation score   (accuracy)\n",
      "\t0.3s\t = Training   runtime\n",
      "\t0.0s\t = Validation runtime\n",
      "AutoGluon training complete, total runtime = 7.66s ... Best model: \"WeightedEnsemble_L2\"\n",
      "TabularPredictor saved. To load, use: predictor = TabularPredictor.load(\"AutogluonModels/ag-20221015_123144/\")\n"
     ]
    }
   ],
   "source": [
    "train_data=TabularDataset(df_train)\n",
    "label='default'\n",
    "autogluon_predictor=TabularPredictor(label=label).fit(df_train)"
   ]
  },
  {
   "cell_type": "code",
   "execution_count": 43,
   "metadata": {},
   "outputs": [
    {
     "name": "stdout",
     "output_type": "stream",
     "text": [
      "[[1280    0]\n",
      " [   0  215]]\n",
      "accuracy of train is  1.0\n",
      "precision of train is  1.0\n",
      "recall of train is  1.0\n",
      "[[431   0]\n",
      " [  1  67]]\n",
      "accuracy of test is  0.9979959919839679\n",
      "precision of test is  1.0\n",
      "recall of test is  0.9852941176470589\n"
     ]
    }
   ],
   "source": [
    "prediction_result(autogluon_predictor)"
   ]
  },
  {
   "cell_type": "code",
   "execution_count": null,
   "metadata": {},
   "outputs": [],
   "source": []
  },
  {
   "cell_type": "code",
   "execution_count": null,
   "metadata": {},
   "outputs": [],
   "source": []
  }
 ],
 "metadata": {
  "kernelspec": {
   "display_name": "Python 3",
   "language": "python",
   "name": "python3"
  },
  "language_info": {
   "codemirror_mode": {
    "name": "ipython",
    "version": 3
   },
   "file_extension": ".py",
   "mimetype": "text/x-python",
   "name": "python",
   "nbconvert_exporter": "python",
   "pygments_lexer": "ipython3",
   "version": "3.8.5"
  }
 },
 "nbformat": 4,
 "nbformat_minor": 4
}
